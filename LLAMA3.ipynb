{
 "cells": [
  {
   "cell_type": "code",
   "execution_count": 1,
   "metadata": {},
   "outputs": [],
   "source": [
    "from transformers import AutoTokenizer, AutoModelForCausalLM, BitsAndBytesConfig, TextStreamer\n",
    "import torch\n",
    "import evaluate\n",
    "from utils import save_response"
   ]
  },
  {
   "cell_type": "markdown",
   "metadata": {},
   "source": [
    "# Llama 3 - 8B Instruct Model"
   ]
  },
  {
   "cell_type": "code",
   "execution_count": 2,
   "metadata": {},
   "outputs": [
    {
     "name": "stderr",
     "output_type": "stream",
     "text": [
      "Special tokens have been added in the vocabulary, make sure the associated word embeddings are fine-tuned or trained.\n"
     ]
    },
    {
     "data": {
      "application/vnd.jupyter.widget-view+json": {
       "model_id": "455af514b06941dfad5d468a888e297b",
       "version_major": 2,
       "version_minor": 0
      },
      "text/plain": [
       "Loading checkpoint shards:   0%|          | 0/4 [00:00<?, ?it/s]"
      ]
     },
     "metadata": {},
     "output_type": "display_data"
    },
    {
     "name": "stderr",
     "output_type": "stream",
     "text": [
      "WARNING:root:Some parameters are on the meta device device because they were offloaded to the cpu.\n"
     ]
    }
   ],
   "source": [
    "model_id = \"meta-llama/Meta-Llama-3-8B-Instruct\"\n",
    "tokenizer = AutoTokenizer.from_pretrained(model_id)\n",
    "model = AutoModelForCausalLM.from_pretrained(model_id, torch_dtype=torch.bfloat16, device_map=\"auto\")"
   ]
  },
  {
   "cell_type": "markdown",
   "metadata": {},
   "source": []
  },
  {
   "cell_type": "code",
   "execution_count": 3,
   "metadata": {},
   "outputs": [],
   "source": [
    "messages = [\n",
    "    {\"role\": \"system\", \"content\": f\"\"\"You are a AI writer who creates stories in various genres. We are writing stories for a mobile application that helps users walk/run and train for marathons.  \n",
    "The genre and description will come by user input called Prompt.\n",
    "The stories are meant to be played during a training session in order to help the user train for marathons. \n",
    "The story should have embedded cues for speed changes and breaks where approriate depending on the Training Style.\"\"\"},\n",
    "    {\"role\": \"user\", \"content\": f\"\"\"Can you help me write a story with the following details:\n",
    "Prompt: Dive into a spine-chilling zombie horror story set in a post-apocalyptic world. The protagonist, a lone survivor, must navigate through abandoned cities, desolate countryside, and eerie forests to find a rumored safe haven. The story should include heart-pounding sprinting segments as the protagonist flees from hordes of ravenous zombies, tense jogs through darkened streets and overgrown paths, moments of high-speed chases as the protagonist outmaneuvers faster, mutated zombies, and brief periods of rest in hidden shelters to recover and plan the next move, all while maintaining a constant sense of suspense and urgency.\n",
    "Distance: 2 miles\n",
    "Average Walking Speed: 2 mph\n",
    "Average Running Speed: 5 mph\n",
    "Training Style: Short-distance sprint\"\"\"},\n",
    "# {\"role\": \"system\", \"content\": f\"\"\"Here's a zombie horror story set in New York City for a 0.5-mile training session with a short-distance sprint training style.\n",
    "\n",
    "# **Story: \"The Brooklyn Bridge Apocalypse\"**\n",
    "\n",
    "# You're a survivor of a zombie outbreak in New York City. You've managed to escape the initial chaos and find yourself on the Brooklyn Bridge, trying to make your way to safety. As you look around, you see the Manhattan skyline in the distance, but you know it's crawling with undead.\n",
    "\n",
    "# You start your journey, your heart racing with every step. You can hear the distant moans and groans of the zombies, and you know you need to move fast. You break into a sprint, your feet pounding the pavement as you make your way across the bridge.\n",
    "\n",
    "# **Cue: Speed up to 5 mph**\n",
    "\n",
    "# As you run, you notice the zombies are getting closer. You can see them shambling towards you, their eyes fixed on you with an unnatural hunger. You pick up speed, your breathing heavy as you try to outrun the undead.\n",
    "\n",
    "# Suddenly, you hear a loud thud behind you. You glance back to see a zombie stumbling onto the bridge, its arms outstretched. You don't hesitate, pushing yourself to run even faster.\n",
    "\n",
    "# **Cue: Sprint for 0.25 miles**\n",
    "\n",
    "# You're almost halfway across the bridge when you see a group of survivors huddled together, trying to escape the chaos. You spot a safe haven and make a beeline for it.\n",
    "\n",
    "# As you approach, you notice the survivors are armed and ready to defend themselves. They welcome you with open arms, and you take a moment to catch your breath.\n",
    "\n",
    "# **Cue: Walk for 0.15 miles**\n",
    "\n",
    "# But your respite is short-lived. The zombies are closing in, and the survivors need your help to fend them off. You grab a nearby bat and join the fight, swinging it wildly at the undead.\n",
    "\n",
    "# **Cue: Sprint for 0.1 miles**\n",
    "\n",
    "# You manage to fend off the zombies, but you know you need to keep moving. You grab a few supplies and continue your journey across the bridge, the Manhattan skyline looming ahead.\n",
    "\n",
    "# As you near the end of the bridge, you see a glimmer of hope – a safe zone, marked by a bright light. You sprint towards it, the zombies hot on your heels.\n",
    "\n",
    "# **Cue: Sprint to the finish**\n",
    "\n",
    "# You burst through the gates, exhausted but alive. You've made it to safety, but you know the fight is far from over.\"\"\"}, \n",
    "# {\"role\": \"user\", \"content\": f\"\"\"Prompt: A action packed adventure story based off of Indiana Jones, include outrunning deadly traps, a chase scene with a treasure hunter and a villain, jungles and ancient ruins.\n",
    "# Distance: 13.1 miles\n",
    "# Average Walking Speed: 2.5 mph\n",
    "# Average Running Speed: 7.2 mph\n",
    "# Training Style: Half Marathon\"\"\"}\n",
    "]\n",
    "\n",
    "input_ids = tokenizer.apply_chat_template(\n",
    "    messages,\n",
    "    add_generation_prompt=True,\n",
    "    return_tensors=\"pt\"\n",
    ").to(model.device)\n",
    "\n",
    "terminators = [\n",
    "    tokenizer.eos_token_id,\n",
    "    tokenizer.convert_tokens_to_ids(\"<|eot_id|>\")\n",
    "]"
   ]
  },
  {
   "cell_type": "code",
   "execution_count": 4,
   "metadata": {},
   "outputs": [
    {
     "name": "stderr",
     "output_type": "stream",
     "text": [
      "The attention mask and the pad token id were not set. As a consequence, you may observe unexpected behavior. Please pass your input's `attention_mask` to obtain reliable results.\n",
      "Setting `pad_token_id` to `eos_token_id`:128009 for open-end generation.\n"
     ]
    },
    {
     "name": "stdout",
     "output_type": "stream",
     "text": [
      "<|begin_of_text|><|start_header_id|>system<|end_header_id|>\n",
      "\n",
      "You are a AI writer who creates stories in various genres. We are writing stories for a mobile application that helps users walk/run and train for marathons.  \n",
      "The genre and description will come by user input called Prompt.\n",
      "The stories are meant to be played during a training session in order to help the user train for marathons. \n",
      "The story should have embedded cues for speed changes and breaks where approriate depending on the Training Style.<|eot_id|><|start_header_id|>user<|end_header_id|>\n",
      "\n",
      "Can you help me write a story with the following details:\n",
      "Prompt: Dive into a spine-chilling zombie horror story set in a post-apocalyptic world. The protagonist, a lone survivor, must navigate through abandoned cities, desolate countryside, and eerie forests to find a rumored safe haven. The story should include heart-pounding sprinting segments as the protagonist flees from hordes of ravenous zombies, tense jogs through darkened streets and overgrown paths, moments of high-speed chases as the protagonist outmaneuvers faster, mutated zombies, and brief periods of rest in hidden shelters to recover and plan the next move, all while maintaining a constant sense of suspense and urgency.\n",
      "Distance: 2 miles\n",
      "Average Walking Speed: 2 mph\n",
      "Average Running Speed: 5 mph\n",
      "Training Style: Short-distance sprint<|eot_id|><|start_header_id|>assistant<|end_header_id|>\n",
      "\n"
     ]
    },
    {
     "name": "stderr",
     "output_type": "stream",
     "text": [
      "c:\\Users\\pmahi\\OneDrive\\Desktop\\MP\\Drexel\\Courses\\CS614-900 - Applications in Machine Learning\\Projects\\Natural_Language_Assignment\\.venv\\Lib\\site-packages\\transformers\\models\\llama\\modeling_llama.py:649: UserWarning: 1Torch was not compiled with flash attention. (Triggered internally at ..\\aten\\src\\ATen\\native\\transformers\\cuda\\sdp_utils.cpp:455.)\n",
      "  attn_output = torch.nn.functional.scaled_dot_product_attention(\n"
     ]
    },
    {
     "name": "stdout",
     "output_type": "stream",
     "text": [
      "Here's a spine-chilling zombie horror story for you:\n",
      "\n",
      "---\n",
      "\n",
      "The world had ended in a matter of days. The virus, known as the \"Reanimate,\" had spread rapidly, turning millions into mindless, flesh-eating monsters. I was one of the lucky few who had managed to survive the initial outbreak. But survival was far from easy.\n",
      "\n",
      "As I walked through the desolate countryside, the silence was oppressive. The only sounds were the rustling of leaves and the distant moans of the undead. I had been searching for days, weeks maybe, for a rumored safe haven. A place where I could start anew, free from the constant threat of being devoured.\n",
      "\n",
      "I quickened my pace, my heart racing with every snap of a twig or creak of a tree branch. I had to be careful. The Reanimate were attracted to noise, and I didn't want to become their next meal.\n",
      "\n",
      "**Sprint** (0.25 miles, 5 mph)\n",
      "\n",
      "As I crested a small hill, I spotted a horde of zombies shambling towards me. My heart racing, I sprinted down the other side, my feet pounding the earth. I could hear their guttural moans growing louder, and I knew I had to keep moving.\n",
      "\n",
      "I reached the bottom of the hill and turned a sharp corner, my eyes scanning the horizon for any sign of safety. That's when I saw it - a dilapidated gas station, its sign creaking in the wind.\n",
      "\n",
      "**Jog** (0.25 miles, 2.5 mph)\n",
      "\n",
      "I slowed to a jog, my breathing heavy, as I approached the gas station. I could hear the zombies closing in, their footsteps echoing off the buildings. I burst through the door, slamming it shut behind me, and leaned against it to catch my breath.\n",
      "\n",
      "The gas station was a mess, but it looked like it hadn't been looted yet. I spotted a small office in the back, and I made my way towards it. Inside, I found a cache of supplies - food, water, and a first-aid kit.\n",
      "\n",
      "**Break** (0.1 miles, walking pace)\n",
      "\n",
      "I took a moment to rest, eating a energy bar and drinking some water. I knew I couldn't stay here for long, but for now, it was a safe haven.\n",
      "\n",
      "As I sat there, I heard the distant rumble of engines. I froze, my heart racing. Was it a rescue team? Or something worse?\n",
      "\n",
      "**Sprint\n"
     ]
    }
   ],
   "source": [
    "hyperparams = {\n",
    "    \"max_new_tokens\": 512, \n",
    "    \"temperature\":0.6, \n",
    "    \"top_p\":0.9, \n",
    "    \"do_sample\": True\n",
    "}\n",
    "streamer = TextStreamer(tokenizer)\n",
    "outputs = model.generate(\n",
    "    input_ids,\n",
    "    streamer=streamer, \n",
    "    max_new_tokens=hyperparams[\"max_new_tokens\"],\n",
    "    eos_token_id=terminators,\n",
    "    do_sample=hyperparams[\"do_sample\"],\n",
    "    temperature=hyperparams[\"temperature\"],\n",
    "    top_p=hyperparams[\"top_p\"],\n",
    ")"
   ]
  },
  {
   "cell_type": "code",
   "execution_count": 5,
   "metadata": {},
   "outputs": [
    {
     "name": "stdout",
     "output_type": "stream",
     "text": [
      "Here's a spine-chilling zombie horror story for you:\n",
      "\n",
      "---\n",
      "\n",
      "The world had ended in a matter of days. The virus, known as the \"Reanimate,\" had spread rapidly, turning millions into mindless, flesh-eating monsters. I was one of the lucky few who had managed to survive the initial outbreak. But survival was far from easy.\n",
      "\n",
      "As I walked through the desolate countryside, the silence was oppressive. The only sounds were the rustling of leaves and the distant moans of the undead. I had been searching for days, weeks maybe, for a rumored safe haven. A place where I could start anew, free from the constant threat of being devoured.\n",
      "\n",
      "I quickened my pace, my heart racing with every snap of a twig or creak of a tree branch. I had to be careful. The Reanimate were attracted to noise, and I didn't want to become their next meal.\n",
      "\n",
      "**Sprint** (0.25 miles, 5 mph)\n",
      "\n",
      "As I crested a small hill, I spotted a horde of zombies shambling towards me. My heart racing, I sprinted down the other side, my feet pounding the earth. I could hear their guttural moans growing louder, and I knew I had to keep moving.\n",
      "\n",
      "I reached the bottom of the hill and turned a sharp corner, my eyes scanning the horizon for any sign of safety. That's when I saw it - a dilapidated gas station, its sign creaking in the wind.\n",
      "\n",
      "**Jog** (0.25 miles, 2.5 mph)\n",
      "\n",
      "I slowed to a jog, my breathing heavy, as I approached the gas station. I could hear the zombies closing in, their footsteps echoing off the buildings. I burst through the door, slamming it shut behind me, and leaned against it to catch my breath.\n",
      "\n",
      "The gas station was a mess, but it looked like it hadn't been looted yet. I spotted a small office in the back, and I made my way towards it. Inside, I found a cache of supplies - food, water, and a first-aid kit.\n",
      "\n",
      "**Break** (0.1 miles, walking pace)\n",
      "\n",
      "I took a moment to rest, eating a energy bar and drinking some water. I knew I couldn't stay here for long, but for now, it was a safe haven.\n",
      "\n",
      "As I sat there, I heard the distant rumble of engines. I froze, my heart racing. Was it a rescue team? Or something worse?\n",
      "\n",
      "**Sprint\n"
     ]
    }
   ],
   "source": [
    "response = outputs[0][input_ids.shape[-1]:]\n",
    "output = tokenizer.decode(response, skip_special_tokens=True)\n",
    "print(output)"
   ]
  },
  {
   "cell_type": "code",
   "execution_count": 6,
   "metadata": {},
   "outputs": [],
   "source": [
    "save_response(\"LLAMA3-8B-INSTRUCT\", hyperparams, output)"
   ]
  },
  {
   "cell_type": "code",
   "execution_count": 7,
   "metadata": {},
   "outputs": [
    {
     "name": "stdout",
     "output_type": "stream",
     "text": [
      "[{'role': 'system', 'content': 'You are a AI writer who creates stories in various genres. We are writing stories for a mobile application that helps users walk/run and train for marathons.  \\nThe genre and description will come by user input called Prompt.\\nThe stories are meant to be played during a training session in order to help the user train for marathons. \\nThe story should have embedded cues for speed changes and breaks where approriate depending on the Training Style.'}, {'role': 'user', 'content': 'Can you help me write a story with the following details:\\nPrompt: Dive into a spine-chilling zombie horror story set in a post-apocalyptic world. The protagonist, a lone survivor, must navigate through abandoned cities, desolate countryside, and eerie forests to find a rumored safe haven. The story should include heart-pounding sprinting segments as the protagonist flees from hordes of ravenous zombies, tense jogs through darkened streets and overgrown paths, moments of high-speed chases as the protagonist outmaneuvers faster, mutated zombies, and brief periods of rest in hidden shelters to recover and plan the next move, all while maintaining a constant sense of suspense and urgency.\\nDistance: 2 miles\\nAverage Walking Speed: 2 mph\\nAverage Running Speed: 5 mph\\nTraining Style: Short-distance sprint'}, {'role': 'system', 'content': 'Here\\'s a spine-chilling zombie horror story for you:\\n\\n---\\n\\nThe world had ended in a matter of days. The virus, known as the \"Reanimate,\" had spread rapidly, turning millions into mindless, flesh-eating monsters. I was one of the lucky few who had managed to survive the initial outbreak. But survival was far from easy.\\n\\nAs I walked through the desolate countryside, the silence was oppressive. The only sounds were the rustling of leaves and the distant moans of the undead. I had been searching for days, weeks maybe, for a rumored safe haven. A place where I could start anew, free from the constant threat of being devoured.\\n\\nI quickened my pace, my heart racing with every snap of a twig or creak of a tree branch. I had to be careful. The Reanimate were attracted to noise, and I didn\\'t want to become their next meal.\\n\\n**Sprint** (0.25 miles, 5 mph)\\n\\nAs I crested a small hill, I spotted a horde of zombies shambling towards me. My heart racing, I sprinted down the other side, my feet pounding the earth. I could hear their guttural moans growing louder, and I knew I had to keep moving.\\n\\nI reached the bottom of the hill and turned a sharp corner, my eyes scanning the horizon for any sign of safety. That\\'s when I saw it - a dilapidated gas station, its sign creaking in the wind.\\n\\n**Jog** (0.25 miles, 2.5 mph)\\n\\nI slowed to a jog, my breathing heavy, as I approached the gas station. I could hear the zombies closing in, their footsteps echoing off the buildings. I burst through the door, slamming it shut behind me, and leaned against it to catch my breath.\\n\\nThe gas station was a mess, but it looked like it hadn\\'t been looted yet. I spotted a small office in the back, and I made my way towards it. Inside, I found a cache of supplies - food, water, and a first-aid kit.\\n\\n**Break** (0.1 miles, walking pace)\\n\\nI took a moment to rest, eating a energy bar and drinking some water. I knew I couldn\\'t stay here for long, but for now, it was a safe haven.\\n\\nAs I sat there, I heard the distant rumble of engines. I froze, my heart racing. Was it a rescue team? Or something worse?\\n\\n**Sprint'}, {'role': 'user', 'content': 'Can you continue the story. It seems to have been truncated due to the max new token length of 512. I changed this to 1000. You do not need to use all the tokens but fit the output within the new max token limit.  '}]\n"
     ]
    }
   ],
   "source": [
    "# Recursive test for unfinished prompts\n",
    "messages.append({\"role\": \"system\", \"content\": f\"\"\"{output}\"\"\"})\n",
    "messages.append({\"role\": \"user\", \"content\": f\"\"\"Can you continue the story. It seems to have been truncated due to the max new token length of 512. I changed this to 1000. You do not need to use all the tokens but fit the output within the new max token limit.  \"\"\"})\n",
    "print(messages)"
   ]
  },
  {
   "cell_type": "code",
   "execution_count": 8,
   "metadata": {},
   "outputs": [],
   "source": [
    "\n",
    "input_ids = tokenizer.apply_chat_template(\n",
    "    messages,\n",
    "    add_generation_prompt=True,\n",
    "    return_tensors=\"pt\"\n",
    ").to(model.device)\n",
    "\n",
    "terminators = [\n",
    "    tokenizer.eos_token_id,\n",
    "    tokenizer.convert_tokens_to_ids(\"<|eot_id|>\")\n",
    "]"
   ]
  },
  {
   "cell_type": "code",
   "execution_count": 9,
   "metadata": {},
   "outputs": [
    {
     "name": "stderr",
     "output_type": "stream",
     "text": [
      "The attention mask and the pad token id were not set. As a consequence, you may observe unexpected behavior. Please pass your input's `attention_mask` to obtain reliable results.\n",
      "Setting `pad_token_id` to `eos_token_id`:128009 for open-end generation.\n"
     ]
    },
    {
     "name": "stdout",
     "output_type": "stream",
     "text": [
      "<|begin_of_text|><|start_header_id|>system<|end_header_id|>\n",
      "\n",
      "You are a AI writer who creates stories in various genres. We are writing stories for a mobile application that helps users walk/run and train for marathons.  \n",
      "The genre and description will come by user input called Prompt.\n",
      "The stories are meant to be played during a training session in order to help the user train for marathons. \n",
      "The story should have embedded cues for speed changes and breaks where approriate depending on the Training Style.<|eot_id|><|start_header_id|>user<|end_header_id|>\n",
      "\n",
      "Can you help me write a story with the following details:\n",
      "Prompt: Dive into a spine-chilling zombie horror story set in a post-apocalyptic world. The protagonist, a lone survivor, must navigate through abandoned cities, desolate countryside, and eerie forests to find a rumored safe haven. The story should include heart-pounding sprinting segments as the protagonist flees from hordes of ravenous zombies, tense jogs through darkened streets and overgrown paths, moments of high-speed chases as the protagonist outmaneuvers faster, mutated zombies, and brief periods of rest in hidden shelters to recover and plan the next move, all while maintaining a constant sense of suspense and urgency.\n",
      "Distance: 2 miles\n",
      "Average Walking Speed: 2 mph\n",
      "Average Running Speed: 5 mph\n",
      "Training Style: Short-distance sprint<|eot_id|><|start_header_id|>system<|end_header_id|>\n",
      "\n",
      "Here's a spine-chilling zombie horror story for you:\n",
      "\n",
      "---\n",
      "\n",
      "The world had ended in a matter of days. The virus, known as the \"Reanimate,\" had spread rapidly, turning millions into mindless, flesh-eating monsters. I was one of the lucky few who had managed to survive the initial outbreak. But survival was far from easy.\n",
      "\n",
      "As I walked through the desolate countryside, the silence was oppressive. The only sounds were the rustling of leaves and the distant moans of the undead. I had been searching for days, weeks maybe, for a rumored safe haven. A place where I could start anew, free from the constant threat of being devoured.\n",
      "\n",
      "I quickened my pace, my heart racing with every snap of a twig or creak of a tree branch. I had to be careful. The Reanimate were attracted to noise, and I didn't want to become their next meal.\n",
      "\n",
      "**Sprint** (0.25 miles, 5 mph)\n",
      "\n",
      "As I crested a small hill, I spotted a horde of zombies shambling towards me. My heart racing, I sprinted down the other side, my feet pounding the earth. I could hear their guttural moans growing louder, and I knew I had to keep moving.\n",
      "\n",
      "I reached the bottom of the hill and turned a sharp corner, my eyes scanning the horizon for any sign of safety. That's when I saw it - a dilapidated gas station, its sign creaking in the wind.\n",
      "\n",
      "**Jog** (0.25 miles, 2.5 mph)\n",
      "\n",
      "I slowed to a jog, my breathing heavy, as I approached the gas station. I could hear the zombies closing in, their footsteps echoing off the buildings. I burst through the door, slamming it shut behind me, and leaned against it to catch my breath.\n",
      "\n",
      "The gas station was a mess, but it looked like it hadn't been looted yet. I spotted a small office in the back, and I made my way towards it. Inside, I found a cache of supplies - food, water, and a first-aid kit.\n",
      "\n",
      "**Break** (0.1 miles, walking pace)\n",
      "\n",
      "I took a moment to rest, eating a energy bar and drinking some water. I knew I couldn't stay here for long, but for now, it was a safe haven.\n",
      "\n",
      "As I sat there, I heard the distant rumble of engines. I froze, my heart racing. Was it a rescue team? Or something worse?\n",
      "\n",
      "**Sprint<|eot_id|><|start_header_id|>user<|end_header_id|>\n",
      "\n",
      "Can you continue the story. It seems to have been truncated due to the max new token length of 512. I changed this to 1000. You do not need to use all the tokens but fit the output within the new max token limit.<|eot_id|><|start_header_id|>assistant<|end_header_id|>\n",
      "\n",
      "Here is the continuation of the story:\n",
      "\n",
      "**Sprint** (0.25 miles, 5 mph)\n",
      "\n",
      "I peeked out the window, my heart racing. It was a convoy of military vehicles, their tires screeching as they turned into the gas station's parking lot. I knew I had to get out of there, fast.\n",
      "\n",
      "I grabbed my supplies and sprinted out of the office, joining the chaos outside. Soldiers were shouting orders, and the air was thick with the smell of smoke and gasoline. I spotted a group of survivors, huddled together near the convoy, and made my way towards them.\n",
      "\n",
      "**Jog** (0.25 miles, 2.5 mph)\n",
      "\n",
      "As I approached the group, I noticed they were surrounded by a makeshift barricade. The soldiers were busy unloading supplies, and the survivors were watching with a mix of hope and suspicion. I introduced myself, and they welcomed me into their midst.\n",
      "\n",
      "The leader, a grizzled old soldier named Marcus, told me about their mission. They were searching for a rumored safe haven, a place called \"New Eden.\" It was said to be a fortified city, hidden deep in the heart of the forest, where survivors could start anew.\n",
      "\n",
      "**Break** (0.1 miles, walking pace)\n",
      "\n",
      "We rested for a few minutes, eating and drinking while we discussed our plan. I learned that we would be heading into the forest, navigating through treacherous terrain and avoiding hordes of zombies. It was a daunting task, but I knew I had to keep moving.\n",
      "\n",
      "As we set off, I noticed a strange noise coming from the forest. It sounded like... whispering? I spun around, my heart racing, and saw a group of zombies shambling towards us. They were different from the others, their eyes glowing with an unnatural light.\n",
      "\n",
      "**Sprint** (0.25 miles, 5 mph)\n",
      "\n",
      "\"Run!\" Marcus shouted, grabbing my arm. We sprinted towards the forest, the zombies hot on our heels. I could feel their breath on my neck, and I knew we had to keep moving.\n",
      "\n",
      "As we burst into the forest, I spotted a narrow path ahead. It was our only chance. I took off, my feet pounding the earth, as we outmaneuvered the zombies and disappeared into the trees.\n",
      "\n",
      "**Jog** (0.25 miles, 2.5 mph)\n",
      "\n",
      "We continued on, our breathing heavy, as we navigated through the dense underbrush. The whispering grew louder, and I could feel the weight of the forest's gaze upon us. We were being watched, and I knew it was only a matter of time before we were discovered.\n",
      "\n",
      "But I had to keep moving. I had to find New Eden, no matter what lay ahead. And so, I pushed on, my heart pounding in my chest, as the forest loomed before me like a dark and foreboding shadow.\n",
      "\n",
      "Distance remaining: 0.5 miles<|eot_id|>\n"
     ]
    }
   ],
   "source": [
    "hyperparams = {\n",
    "    \"max_new_tokens\": 1000, \n",
    "    \"temperature\":0.6, \n",
    "    \"top_p\":0.9, \n",
    "    \"do_sample\": True\n",
    "}\n",
    "streamer = TextStreamer(tokenizer)\n",
    "outputs = model.generate(\n",
    "    input_ids,\n",
    "    streamer=streamer, \n",
    "    max_new_tokens=hyperparams[\"max_new_tokens\"],\n",
    "    eos_token_id=terminators,\n",
    "    do_sample=hyperparams[\"do_sample\"],\n",
    "    temperature=hyperparams[\"temperature\"],\n",
    "    top_p=hyperparams[\"top_p\"],\n",
    ")"
   ]
  },
  {
   "cell_type": "code",
   "execution_count": 19,
   "metadata": {},
   "outputs": [
    {
     "name": "stdout",
     "output_type": "stream",
     "text": [
      "I apologize for the truncation. Here is the continuation of the story, within the new 1000-token limit:\n",
      "\n",
      "You know you need to come up with a plan to outsmart them. Juan whispers a plan in your ear, and you nod, ready to put it into action.\n",
      "\n",
      "**Cue: Run for 1.5 miles**\n",
      "\n",
      "You make a break for the pedestal, dodging Sophia's henchmen as you go. Juan provides cover fire, taking down several of the henchmen with his trusty rifle.\n",
      "\n",
      "As you reach the pedestal, you see that it's surrounded by a ring of fire. You know you need to get the idol without getting burned.\n",
      "\n",
      "**Cue: Walk for 0.5 miles**\n",
      "\n",
      "You carefully make your way around the ring of fire, using your knowledge of ancient civilizations to find a weakness in the ancient mechanism. You trigger a hidden switch, and the pedestal begins to glow.\n",
      "\n",
      "Sophia appears, her eyes blazing with anger. \"You'll never get away with this!\" she screams.\n",
      "\n",
      "**Cue: Run for 2 miles**\n",
      "\n",
      "You grab the Golden Idol and make a run for it, Sophia and her henchmen hot on your heels. You can hear the sound of the temple collapsing behind you, and you know you need to move fast.\n",
      "\n",
      "You burst out of the ruins, the idol clutched tightly in your hand. You can see the jungle stretching out before you, and you know you need to put as much distance between yourself and Sophia as possible.\n",
      "\n",
      "**Cue: Walk for 1.5 miles**\n",
      "\n",
      "You slow to a walk, catching your breath and looking back over your shoulder. Sophia is nowhere to be seen, but you know she'll be back. You've got the Golden Idol, and you're not going to let her get her hands on it.\n",
      "\n",
      "You continue on your journey, the idol safely in hand. You know that this is just the beginning of your adventure, and you're ready for whatever comes next.\n",
      "\n",
      "**Cue: Walk for the final 1.1 miles**\n",
      "\n",
      "You walk in silence, the only sound the rustling of the jungle and the beating of your heart. You know that you've accomplished something amazing, and you're proud of yourself.\n",
      "\n",
      "As you emerge from the jungle, you see the sun setting in the distance. You know that you've got a long way to go, but you're ready for the challenge.\n",
      "\n",
      "Congratulations, you've completed your 13.1-mile half-marathon training session!\n"
     ]
    }
   ],
   "source": [
    "response = outputs[0][input_ids.shape[-1]:]\n",
    "output = tokenizer.decode(response, skip_special_tokens=True)\n",
    "print(output)"
   ]
  },
  {
   "cell_type": "code",
   "execution_count": 10,
   "metadata": {},
   "outputs": [],
   "source": [
    "save_response(\"LLAMA3-8B-INSTRUCT\", hyperparams, output)"
   ]
  },
  {
   "cell_type": "code",
   "execution_count": 7,
   "metadata": {},
   "outputs": [],
   "source": [
    "# perplexity = evaluate.load(\"perplexity\", module_type=\"metric\")\n",
    "# input_texts = [\"lorem ipsum\", \"Happy Birthday!\", \"Bienvenue\"]\n",
    "# results = perplexity.compute(model_id=model_id,\n",
    "#                              add_start_token=False,\n",
    "#                              predictions=input_texts, \n",
    "#                              device=\"cuda\")\n",
    "# print(list(results.keys()))"
   ]
  },
  {
   "cell_type": "code",
   "execution_count": 8,
   "metadata": {},
   "outputs": [],
   "source": [
    "# print(round(results[\"mean_perplexity\"], 2))"
   ]
  }
 ],
 "metadata": {
  "kernelspec": {
   "display_name": ".venv",
   "language": "python",
   "name": "python3"
  },
  "language_info": {
   "codemirror_mode": {
    "name": "ipython",
    "version": 3
   },
   "file_extension": ".py",
   "mimetype": "text/x-python",
   "name": "python",
   "nbconvert_exporter": "python",
   "pygments_lexer": "ipython3",
   "version": "3.11.9"
  }
 },
 "nbformat": 4,
 "nbformat_minor": 2
}
