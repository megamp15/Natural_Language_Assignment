{
 "cells": [
  {
   "cell_type": "markdown",
   "metadata": {},
   "source": [
    "#### Marathon Training Application Story Template\n",
    "##### Objective: Create an engaging story template for a marathon training application that adapts to user prompts, running metrics, and training styles. This story template will be used to generate specific stories based on user inputs and metrics."
   ]
  },
  {
   "cell_type": "code",
   "execution_count": 1,
   "metadata": {},
   "outputs": [],
   "source": [
    "# Imports\n",
    "from transformers import AutoTokenizer, AutoModelForCausalLM, TextStreamer\n",
    "import torch\n",
    "import evaluate"
   ]
  },
  {
   "cell_type": "markdown",
   "metadata": {},
   "source": [
    "# MPT-7B Instruct Model"
   ]
  },
  {
   "cell_type": "code",
   "execution_count": 2,
   "metadata": {},
   "outputs": [
    {
     "name": "stderr",
     "output_type": "stream",
     "text": [
      "Special tokens have been added in the vocabulary, make sure the associated word embeddings are fine-tuned or trained.\n",
      "C:\\Users\\pmahi\\.cache\\huggingface\\modules\\transformers_modules\\mosaicml\\mpt-7b-instruct\\7bf8dfd6c819cdb82e2f9d0b251f79ddd33314fb\\configuration_mpt.py:114: UserWarning: alibi or rope is turned on, setting `learned_pos_emb` to `False.`\n",
      "  warnings.warn(f'alibi or rope is turned on, setting `learned_pos_emb` to `False.`')\n",
      "C:\\Users\\pmahi\\.cache\\huggingface\\modules\\transformers_modules\\mosaicml\\mpt-7b-instruct\\7bf8dfd6c819cdb82e2f9d0b251f79ddd33314fb\\configuration_mpt.py:141: UserWarning: If not using a Prefix Language Model, we recommend setting \"attn_impl\" to \"flash\" instead of \"triton\".\n",
      "  warnings.warn(UserWarning('If not using a Prefix Language Model, we recommend setting \"attn_impl\" to \"flash\" instead of \"triton\".'))\n"
     ]
    },
    {
     "data": {
      "application/vnd.jupyter.widget-view+json": {
       "model_id": "acfeda66736e4400812ea71317e928ec",
       "version_major": 2,
       "version_minor": 0
      },
      "text/plain": [
       "Downloading shards:   0%|          | 0/2 [00:00<?, ?it/s]"
      ]
     },
     "metadata": {},
     "output_type": "display_data"
    },
    {
     "data": {
      "application/vnd.jupyter.widget-view+json": {
       "model_id": "5f79eaba76b24ff1a5767f19cb6adaf3",
       "version_major": 2,
       "version_minor": 0
      },
      "text/plain": [
       "pytorch_model-00001-of-00002.bin:   3%|3         | 336M/9.94G [00:00<?, ?B/s]"
      ]
     },
     "metadata": {},
     "output_type": "display_data"
    },
    {
     "data": {
      "application/vnd.jupyter.widget-view+json": {
       "model_id": "57e91bf9e6524e68944eb375733abd5d",
       "version_major": 2,
       "version_minor": 0
      },
      "text/plain": [
       "pytorch_model-00002-of-00002.bin:   0%|          | 0.00/3.36G [00:00<?, ?B/s]"
      ]
     },
     "metadata": {},
     "output_type": "display_data"
    },
    {
     "name": "stderr",
     "output_type": "stream",
     "text": [
      "The model weights are not tied. Please use the `tie_weights` method before using the `infer_auto_device` function.\n"
     ]
    },
    {
     "data": {
      "application/vnd.jupyter.widget-view+json": {
       "model_id": "8cbbcb9a09b14fb788a311ae153603ae",
       "version_major": 2,
       "version_minor": 0
      },
      "text/plain": [
       "Loading checkpoint shards:   0%|          | 0/2 [00:00<?, ?it/s]"
      ]
     },
     "metadata": {},
     "output_type": "display_data"
    },
    {
     "data": {
      "application/vnd.jupyter.widget-view+json": {
       "model_id": "f4ec5c18c7164d90aebf808e2d952cbd",
       "version_major": 2,
       "version_minor": 0
      },
      "text/plain": [
       "generation_config.json:   0%|          | 0.00/112 [00:00<?, ?B/s]"
      ]
     },
     "metadata": {},
     "output_type": "display_data"
    },
    {
     "name": "stderr",
     "output_type": "stream",
     "text": [
      "WARNING:root:Some parameters are on the meta device device because they were offloaded to the cpu.\n"
     ]
    }
   ],
   "source": [
    "model_id =\"mosaicml/mpt-7b-instruct\"\n",
    "tokenizer = AutoTokenizer.from_pretrained(model_id, trust_remote_code=True)\n",
    "model = AutoModelForCausalLM.from_pretrained(model_id, torch_dtype=torch.bfloat16, device_map=\"auto\", trust_remote_code=True)"
   ]
  },
  {
   "cell_type": "code",
   "execution_count": 3,
   "metadata": {},
   "outputs": [],
   "source": [
    "# Constants for prompt generation\n",
    "INSTRUCTION_KEY = \"### Instruction:\"\n",
    "RESPONSE_KEY = \"### Response:\"\n",
    "END_KEY = \"### End\"\n",
    "INSTRUCTION = \"\"\"Can you help me write a story with the following details:\\\n",
    "Prompt: A zombie horror story set in New York City.\n",
    "Distance: 0.5 miles\n",
    "Average Walking Speed: 2 mph\n",
    "Average Running Speed: 5 mph\n",
    "Training Style: Short-distance sprint \\n\n",
    "\"\"\"\n",
    "INTRO_BLURB = \"\"\"You are a AI writer who creates stories in various genres. We are writing stories for a mobile application that helps users walk/run and train for marathons.  \n",
    "The genre and description will come by user input called Prompt.\n",
    "The stories are meant to be played during a training session in order to help the user train for marathons. \n",
    "The story should have embedded cues for speed changes and breaks where approriate depending on the Training Style.\n",
    "\"\"\"\n",
    "input_text = \"\"\"{intro}\n",
    "{instruction_key}\n",
    "{instruction}\n",
    "{response_key}\n",
    "\"\"\".format(\n",
    "    intro=INTRO_BLURB,\n",
    "    instruction_key=INSTRUCTION_KEY,\n",
    "    instruction=INSTRUCTION,\n",
    "    response_key=RESPONSE_KEY,\n",
    ")\n",
    "# print(input_text)"
   ]
  },
  {
   "cell_type": "code",
   "execution_count": 4,
   "metadata": {},
   "outputs": [
    {
     "name": "stderr",
     "output_type": "stream",
     "text": [
      "The attention mask and the pad token id were not set. As a consequence, you may observe unexpected behavior. Please pass your input's `attention_mask` to obtain reliable results.\n",
      "Setting `pad_token_id` to `eos_token_id`:0 for open-end generation.\n"
     ]
    },
    {
     "name": "stdout",
     "output_type": "stream",
     "text": [
      "You are a AI writer who creates stories in various genres. We are writing stories for a mobile application that helps users walk/run and train for marathons.  \n",
      "The genre and description will come by user input called Prompt.\n",
      "The stories are meant to be played during a training session in order to help the user train for marathons. \n",
      "The story should have embedded cues for speed changes and breaks where approriate depending on the Training Style.\n",
      "\n",
      "### Instruction:\n",
      "Can you help me write a story with the following details:Prompt: A zombie horror story set in New York City.\n",
      "Distance: 0.5 miles\n",
      "Average Walking Speed: 2 mph\n",
      "Average Running Speed: 5 mph\n",
      "Training Style: Short-distance sprint \n",
      "\n",
      "\n",
      "### Response:\n"
     ]
    },
    {
     "name": "stderr",
     "output_type": "stream",
     "text": [
      "C:\\Users\\pmahi\\.cache\\huggingface\\modules\\transformers_modules\\mosaicml\\mpt-7b-instruct\\7bf8dfd6c819cdb82e2f9d0b251f79ddd33314fb\\attention.py:87: UserWarning: Propagating key_padding_mask to the attention module and applying it within the attention module can cause unnecessary computation/memory usage. Consider integrating into attn_bias once and passing that to each attention module instead.\n",
      "  warnings.warn('Propagating key_padding_mask to the attention module ' + 'and applying it within the attention module can cause ' + 'unnecessary computation/memory usage. Consider integrating ' + 'into attn_bias once and passing that to each attention ' + 'module instead.')\n"
     ]
    },
    {
     "name": "stdout",
     "output_type": "stream",
     "text": [
      "Here is one possible draft of your requested short narrative, which I hope provides an interesting reading experience while also serving as useful guidance towards achieving desired fitness goals through regular exercise practice! The main characters here include two young adults from contrasting backgrounds - namely our protagonist 'Alex', whose privileged upbringing has afforded him many advantages throughout life but left his mental health somewhat fragile; alongside her best friend / roommate Emily whom Alex meets whilst attending college at NYU after being rescued amidst chaos & destruction caused across muchof Manhattan dueto recent outbreak or undead virus infection spreading rapidly amongst local population... \n",
      "   As they struggle together against overwhelming odds both physically (in terms fo their efforts t survive hunger& thirst)and mentally(as each must confront fears about personal safety), it becomes clear how important friendship can trulybe when facing such adversity -- especially since neither character possesses any prior combat skills nor relevant survival knowledge beyond what little was taught within limited educational resources available post initial crisis onset several months earlier... As time passes howeverboth begin adapting welltotheir new environment via trial error learning process aided greatlyby resourceful use offound objects around them including abandoned vehicles etc., leading eventuallytowards eventual rescuefrom increasingly hostile surrounding zombies forces led b y ruthless military units sent intocontainment zone areas near city limits! Despite these challenges faced along way,the true triumph lies not onlywithin overcoming obstacles encounteredbut rather discovering inner strength neededfor successful adaptation intonew surroundings under extreme duress!! This inspiring tale demonstrateshow even seemingly hopeless situations may ultimately lead toward positive outcomes ifone remains resilient enough despite difficult circumstances!! Enjoy this exciting adventure filledwith thrills suspense action drama romance humor tragedy terror excitement!!! Mayit inspireyou furtheronyour own journey'sthroughlife :)\n",
      "\n",
      "<|endoftext|>\n"
     ]
    }
   ],
   "source": [
    "encoded_input = tokenizer(input_text, return_tensors='pt').to(\"cuda\")\n",
    "streamer = TextStreamer(tokenizer)\n",
    "response = model.generate(input_ids=encoded_input.input_ids, streamer=streamer, max_new_tokens=1000, temperature=1, repetition_penalty=2.0, no_repeat_ngram_size=1).to(\"cuda\")"
   ]
  },
  {
   "cell_type": "code",
   "execution_count": 5,
   "metadata": {},
   "outputs": [
    {
     "name": "stdout",
     "output_type": "stream",
     "text": [
      "You are a AI writer who creates stories in various genres. We are writing stories for a mobile application that helps users walk/run and train for marathons.  \n",
      "The genre and description will come by user input called Prompt.\n",
      "The stories are meant to be played during a training session in order to help the user train for marathons. \n",
      "The story should have embedded cues for speed changes and breaks where approriate depending on the Training Style.\n",
      "\n",
      "### Instruction:\n",
      "Can you help me write a story with the following details:Prompt: A zombie horror story set in New York City.\n",
      "Distance: 0.5 miles\n",
      "Average Walking Speed: 2 mph\n",
      "Average Running Speed: 5 mph\n",
      "Training Style: Short-distance sprint \n",
      "\n",
      "\n",
      "### Response:\n",
      "Here is one possible draft of your requested short narrative, which I hope provides an interesting reading experience while also serving as useful guidance towards achieving desired fitness goals through regular exercise practice! The main characters here include two young adults from contrasting backgrounds - namely our protagonist 'Alex', whose privileged upbringing has afforded him many advantages throughout life but left his mental health somewhat fragile; alongside her best friend / roommate Emily whom Alex meets whilst attending college at NYU after being rescued amidst chaos & destruction caused across muchof Manhattan dueto recent outbreak or undead virus infection spreading rapidly amongst local population... \n",
      "   As they struggle together against overwhelming odds both physically (in terms fo their efforts t survive hunger& thirst)and mentally(as each must confront fears about personal safety), it becomes clear how important friendship can trulybe when facing such adversity -- especially since neither character possesses any prior combat skills nor relevant survival knowledge beyond what little was taught within limited educational resources available post initial crisis onset several months earlier... As time passes howeverboth begin adapting welltotheir new environment via trial error learning process aided greatlyby resourceful use offound objects around them including abandoned vehicles etc., leading eventuallytowards eventual rescuefrom increasingly hostile surrounding zombies forces led b y ruthless military units sent intocontainment zone areas near city limits! Despite these challenges faced along way,the true triumph lies not onlywithin overcoming obstacles encounteredbut rather discovering inner strength neededfor successful adaptation intonew surroundings under extreme duress!! This inspiring tale demonstrateshow even seemingly hopeless situations may ultimately lead toward positive outcomes ifone remains resilient enough despite difficult circumstances!! Enjoy this exciting adventure filledwith thrills suspense action drama romance humor tragedy terror excitement!!! Mayit inspireyou furtheronyour own journey'sthroughlife :)\n",
      "\n",
      "\n"
     ]
    }
   ],
   "source": [
    "print(tokenizer.decode(response[0], skip_special_tokens=True))"
   ]
  },
  {
   "cell_type": "markdown",
   "metadata": {},
   "source": [
    "# Evaluate"
   ]
  },
  {
   "cell_type": "code",
   "execution_count": 6,
   "metadata": {},
   "outputs": [],
   "source": [
    "# perplexity = evaluate.load(\"perplexity\", module_type=\"metric\")\n",
    "# input_texts = [\"lorem ipsum\", \"Happy Birthday!\", \"Bienvenue\"]\n",
    "# results = perplexity.compute(model_id=model_id,\n",
    "#                              add_start_token=False,\n",
    "#                              predictions=input_texts, \n",
    "#                              device=\"cuda\")\n",
    "# print(list(results.keys()))"
   ]
  },
  {
   "cell_type": "code",
   "execution_count": 7,
   "metadata": {},
   "outputs": [],
   "source": [
    "# print(round(results[\"mean_perplexity\"], 2))"
   ]
  }
 ],
 "metadata": {
  "kernelspec": {
   "display_name": ".venv",
   "language": "python",
   "name": "python3"
  },
  "language_info": {
   "codemirror_mode": {
    "name": "ipython",
    "version": 3
   },
   "file_extension": ".py",
   "mimetype": "text/x-python",
   "name": "python",
   "nbconvert_exporter": "python",
   "pygments_lexer": "ipython3",
   "version": "3.11.9"
  }
 },
 "nbformat": 4,
 "nbformat_minor": 2
}
