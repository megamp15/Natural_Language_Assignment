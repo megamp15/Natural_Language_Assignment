{
 "cells": [
  {
   "cell_type": "markdown",
   "metadata": {},
   "source": [
    "#### Marathon Training Application Story Template\n",
    "##### Objective: Create an engaging story template for a marathon training application that adapts to user prompts, running metrics, and training styles. This story template will be used to generate specific stories based on user inputs and metrics."
   ]
  },
  {
   "cell_type": "code",
   "execution_count": 1,
   "metadata": {},
   "outputs": [],
   "source": [
    "# Imports\n",
    "from transformers import AutoTokenizer, AutoModelForCausalLM, TextStreamer\n",
    "import torch\n",
    "import evaluate"
   ]
  },
  {
   "cell_type": "markdown",
   "metadata": {},
   "source": [
    "# MPT-7B Instruct Model"
   ]
  },
  {
   "cell_type": "code",
   "execution_count": 2,
   "metadata": {},
   "outputs": [
    {
     "data": {
      "application/vnd.jupyter.widget-view+json": {
       "model_id": "9c97109a92ba4967bd43761143efedc9",
       "version_major": 2,
       "version_minor": 0
      },
      "text/plain": [
       "tokenizer_config.json:   0%|          | 0.00/238 [00:00<?, ?B/s]"
      ]
     },
     "metadata": {},
     "output_type": "display_data"
    },
    {
     "data": {
      "application/vnd.jupyter.widget-view+json": {
       "model_id": "aaa6a931e5904446a70b42c18009ea0e",
       "version_major": 2,
       "version_minor": 0
      },
      "text/plain": [
       "tokenizer.json:   0%|          | 0.00/2.11M [00:00<?, ?B/s]"
      ]
     },
     "metadata": {},
     "output_type": "display_data"
    },
    {
     "data": {
      "application/vnd.jupyter.widget-view+json": {
       "model_id": "155db6962f304461971567c6b38285a1",
       "version_major": 2,
       "version_minor": 0
      },
      "text/plain": [
       "special_tokens_map.json:   0%|          | 0.00/99.0 [00:00<?, ?B/s]"
      ]
     },
     "metadata": {},
     "output_type": "display_data"
    },
    {
     "name": "stderr",
     "output_type": "stream",
     "text": [
      "Special tokens have been added in the vocabulary, make sure the associated word embeddings are fine-tuned or trained.\n"
     ]
    },
    {
     "data": {
      "application/vnd.jupyter.widget-view+json": {
       "model_id": "b8b66376a81e460ca1f675fd1418f7f5",
       "version_major": 2,
       "version_minor": 0
      },
      "text/plain": [
       "config.json:   0%|          | 0.00/1.23k [00:00<?, ?B/s]"
      ]
     },
     "metadata": {},
     "output_type": "display_data"
    },
    {
     "data": {
      "application/vnd.jupyter.widget-view+json": {
       "model_id": "f744fb067e1d49afa15d553dadf2fbd0",
       "version_major": 2,
       "version_minor": 0
      },
      "text/plain": [
       "configuration_mpt.py:   0%|          | 0.00/16.4k [00:00<?, ?B/s]"
      ]
     },
     "metadata": {},
     "output_type": "display_data"
    },
    {
     "data": {
      "application/vnd.jupyter.widget-view+json": {
       "model_id": "a2c2d578bb2848d9a35e234084a40718",
       "version_major": 2,
       "version_minor": 0
      },
      "text/plain": [
       "fc.py:   0%|          | 0.00/167 [00:00<?, ?B/s]"
      ]
     },
     "metadata": {},
     "output_type": "display_data"
    },
    {
     "name": "stderr",
     "output_type": "stream",
     "text": [
      "A new version of the following files was downloaded from https://huggingface.co/mosaicml/mpt-7b-storywriter:\n",
      "- fc.py\n",
      ". Make sure to double-check they do not contain any added malicious code. To avoid downloading new versions of the code file, you can pin a revision.\n"
     ]
    },
    {
     "data": {
      "application/vnd.jupyter.widget-view+json": {
       "model_id": "6ef9e5ae655f42398a92ed107e8ba977",
       "version_major": 2,
       "version_minor": 0
      },
      "text/plain": [
       "attention.py:   0%|          | 0.00/24.6k [00:00<?, ?B/s]"
      ]
     },
     "metadata": {},
     "output_type": "display_data"
    },
    {
     "data": {
      "application/vnd.jupyter.widget-view+json": {
       "model_id": "f4d99077617c454e94de053cefe593e2",
       "version_major": 2,
       "version_minor": 0
      },
      "text/plain": [
       "flash_attn_triton.py:   0%|          | 0.00/28.2k [00:00<?, ?B/s]"
      ]
     },
     "metadata": {},
     "output_type": "display_data"
    },
    {
     "name": "stderr",
     "output_type": "stream",
     "text": [
      "A new version of the following files was downloaded from https://huggingface.co/mosaicml/mpt-7b-storywriter:\n",
      "- flash_attn_triton.py\n",
      ". Make sure to double-check they do not contain any added malicious code. To avoid downloading new versions of the code file, you can pin a revision.\n"
     ]
    },
    {
     "data": {
      "application/vnd.jupyter.widget-view+json": {
       "model_id": "701f15c921ad4300bed314afb3e206e9",
       "version_major": 2,
       "version_minor": 0
      },
      "text/plain": [
       "norm.py:   0%|          | 0.00/3.12k [00:00<?, ?B/s]"
      ]
     },
     "metadata": {},
     "output_type": "display_data"
    },
    {
     "name": "stderr",
     "output_type": "stream",
     "text": [
      "A new version of the following files was downloaded from https://huggingface.co/mosaicml/mpt-7b-storywriter:\n",
      "- norm.py\n",
      ". Make sure to double-check they do not contain any added malicious code. To avoid downloading new versions of the code file, you can pin a revision.\n",
      "A new version of the following files was downloaded from https://huggingface.co/mosaicml/mpt-7b-storywriter:\n",
      "- attention.py\n",
      "- flash_attn_triton.py\n",
      "- norm.py\n",
      ". Make sure to double-check they do not contain any added malicious code. To avoid downloading new versions of the code file, you can pin a revision.\n"
     ]
    },
    {
     "data": {
      "application/vnd.jupyter.widget-view+json": {
       "model_id": "2f1b2e9f19cc49d58213ce0a36d9da1b",
       "version_major": 2,
       "version_minor": 0
      },
      "text/plain": [
       "ffn.py:   0%|          | 0.00/5.22k [00:00<?, ?B/s]"
      ]
     },
     "metadata": {},
     "output_type": "display_data"
    },
    {
     "name": "stderr",
     "output_type": "stream",
     "text": [
      "A new version of the following files was downloaded from https://huggingface.co/mosaicml/mpt-7b-storywriter:\n",
      "- ffn.py\n",
      ". Make sure to double-check they do not contain any added malicious code. To avoid downloading new versions of the code file, you can pin a revision.\n"
     ]
    },
    {
     "data": {
      "application/vnd.jupyter.widget-view+json": {
       "model_id": "d12e25bd5b1b4ff4a82c96a5817f66c2",
       "version_major": 2,
       "version_minor": 0
      },
      "text/plain": [
       "warnings.py:   0%|          | 0.00/894 [00:00<?, ?B/s]"
      ]
     },
     "metadata": {},
     "output_type": "display_data"
    },
    {
     "name": "stderr",
     "output_type": "stream",
     "text": [
      "A new version of the following files was downloaded from https://huggingface.co/mosaicml/mpt-7b-storywriter:\n",
      "- warnings.py\n",
      ". Make sure to double-check they do not contain any added malicious code. To avoid downloading new versions of the code file, you can pin a revision.\n"
     ]
    },
    {
     "data": {
      "application/vnd.jupyter.widget-view+json": {
       "model_id": "8f45f4d6150f4f08bbe71033728034d9",
       "version_major": 2,
       "version_minor": 0
      },
      "text/plain": [
       "blocks.py:   0%|          | 0.00/4.04k [00:00<?, ?B/s]"
      ]
     },
     "metadata": {},
     "output_type": "display_data"
    },
    {
     "name": "stderr",
     "output_type": "stream",
     "text": [
      "A new version of the following files was downloaded from https://huggingface.co/mosaicml/mpt-7b-storywriter:\n",
      "- blocks.py\n",
      ". Make sure to double-check they do not contain any added malicious code. To avoid downloading new versions of the code file, you can pin a revision.\n",
      "A new version of the following files was downloaded from https://huggingface.co/mosaicml/mpt-7b-storywriter:\n",
      "- configuration_mpt.py\n",
      "- fc.py\n",
      "- attention.py\n",
      "- ffn.py\n",
      "- warnings.py\n",
      "- blocks.py\n",
      ". Make sure to double-check they do not contain any added malicious code. To avoid downloading new versions of the code file, you can pin a revision.\n",
      "C:\\Users\\pmahi\\.cache\\huggingface\\modules\\transformers_modules\\mosaicml\\mpt-7b-storywriter\\b41e79e5f836d9b49637779cb37db32a965c3047\\configuration_mpt.py:114: UserWarning: alibi or rope is turned on, setting `learned_pos_emb` to `False.`\n",
      "  warnings.warn(f'alibi or rope is turned on, setting `learned_pos_emb` to `False.`')\n",
      "C:\\Users\\pmahi\\.cache\\huggingface\\modules\\transformers_modules\\mosaicml\\mpt-7b-storywriter\\b41e79e5f836d9b49637779cb37db32a965c3047\\configuration_mpt.py:141: UserWarning: If not using a Prefix Language Model, we recommend setting \"attn_impl\" to \"flash\" instead of \"triton\".\n",
      "  warnings.warn(UserWarning('If not using a Prefix Language Model, we recommend setting \"attn_impl\" to \"flash\" instead of \"triton\".'))\n"
     ]
    },
    {
     "data": {
      "application/vnd.jupyter.widget-view+json": {
       "model_id": "c2c32e13b17b4c82834f8fcbfed68e63",
       "version_major": 2,
       "version_minor": 0
      },
      "text/plain": [
       "modeling_mpt.py:   0%|          | 0.00/32.4k [00:00<?, ?B/s]"
      ]
     },
     "metadata": {},
     "output_type": "display_data"
    },
    {
     "data": {
      "application/vnd.jupyter.widget-view+json": {
       "model_id": "934bc5645fd14fbfbbec1a740d5a51b8",
       "version_major": 2,
       "version_minor": 0
      },
      "text/plain": [
       "adapt_tokenizer.py:   0%|          | 0.00/1.72k [00:00<?, ?B/s]"
      ]
     },
     "metadata": {},
     "output_type": "display_data"
    },
    {
     "name": "stderr",
     "output_type": "stream",
     "text": [
      "A new version of the following files was downloaded from https://huggingface.co/mosaicml/mpt-7b-storywriter:\n",
      "- adapt_tokenizer.py\n",
      ". Make sure to double-check they do not contain any added malicious code. To avoid downloading new versions of the code file, you can pin a revision.\n"
     ]
    },
    {
     "data": {
      "application/vnd.jupyter.widget-view+json": {
       "model_id": "5672e890037a41b69a04bc123fd73d5d",
       "version_major": 2,
       "version_minor": 0
      },
      "text/plain": [
       "hf_prefixlm_converter.py:   0%|          | 0.00/10.5k [00:00<?, ?B/s]"
      ]
     },
     "metadata": {},
     "output_type": "display_data"
    },
    {
     "name": "stderr",
     "output_type": "stream",
     "text": [
      "A new version of the following files was downloaded from https://huggingface.co/mosaicml/mpt-7b-storywriter:\n",
      "- hf_prefixlm_converter.py\n",
      ". Make sure to double-check they do not contain any added malicious code. To avoid downloading new versions of the code file, you can pin a revision.\n"
     ]
    },
    {
     "data": {
      "application/vnd.jupyter.widget-view+json": {
       "model_id": "7ccd1c293fed4cf9a11a16fa289f799c",
       "version_major": 2,
       "version_minor": 0
      },
      "text/plain": [
       "param_init_fns.py:   0%|          | 0.00/11.9k [00:00<?, ?B/s]"
      ]
     },
     "metadata": {},
     "output_type": "display_data"
    },
    {
     "name": "stderr",
     "output_type": "stream",
     "text": [
      "A new version of the following files was downloaded from https://huggingface.co/mosaicml/mpt-7b-storywriter:\n",
      "- param_init_fns.py\n",
      ". Make sure to double-check they do not contain any added malicious code. To avoid downloading new versions of the code file, you can pin a revision.\n"
     ]
    },
    {
     "data": {
      "application/vnd.jupyter.widget-view+json": {
       "model_id": "7f89e34f8b894f39ab39a2537089e4e1",
       "version_major": 2,
       "version_minor": 0
      },
      "text/plain": [
       "meta_init_context.py:   0%|          | 0.00/3.96k [00:00<?, ?B/s]"
      ]
     },
     "metadata": {},
     "output_type": "display_data"
    },
    {
     "name": "stderr",
     "output_type": "stream",
     "text": [
      "A new version of the following files was downloaded from https://huggingface.co/mosaicml/mpt-7b-storywriter:\n",
      "- meta_init_context.py\n",
      ". Make sure to double-check they do not contain any added malicious code. To avoid downloading new versions of the code file, you can pin a revision.\n"
     ]
    },
    {
     "data": {
      "application/vnd.jupyter.widget-view+json": {
       "model_id": "a3a00761b41f40a1964ed683833b23f0",
       "version_major": 2,
       "version_minor": 0
      },
      "text/plain": [
       "custom_embedding.py:   0%|          | 0.00/292 [00:00<?, ?B/s]"
      ]
     },
     "metadata": {},
     "output_type": "display_data"
    },
    {
     "name": "stderr",
     "output_type": "stream",
     "text": [
      "A new version of the following files was downloaded from https://huggingface.co/mosaicml/mpt-7b-storywriter:\n",
      "- custom_embedding.py\n",
      ". Make sure to double-check they do not contain any added malicious code. To avoid downloading new versions of the code file, you can pin a revision.\n",
      "A new version of the following files was downloaded from https://huggingface.co/mosaicml/mpt-7b-storywriter:\n",
      "- modeling_mpt.py\n",
      "- adapt_tokenizer.py\n",
      "- hf_prefixlm_converter.py\n",
      "- param_init_fns.py\n",
      "- meta_init_context.py\n",
      "- custom_embedding.py\n",
      ". Make sure to double-check they do not contain any added malicious code. To avoid downloading new versions of the code file, you can pin a revision.\n"
     ]
    },
    {
     "data": {
      "application/vnd.jupyter.widget-view+json": {
       "model_id": "b9fb4f87c13b441bb0c3a89ae81a93eb",
       "version_major": 2,
       "version_minor": 0
      },
      "text/plain": [
       "pytorch_model.bin.index.json:   0%|          | 0.00/16.0k [00:00<?, ?B/s]"
      ]
     },
     "metadata": {},
     "output_type": "display_data"
    },
    {
     "data": {
      "application/vnd.jupyter.widget-view+json": {
       "model_id": "470428cef3ca475b991d470bab339cc3",
       "version_major": 2,
       "version_minor": 0
      },
      "text/plain": [
       "Downloading shards:   0%|          | 0/2 [00:00<?, ?it/s]"
      ]
     },
     "metadata": {},
     "output_type": "display_data"
    },
    {
     "data": {
      "application/vnd.jupyter.widget-view+json": {
       "model_id": "8c1ec6a1bcfa437aba367adbf227a473",
       "version_major": 2,
       "version_minor": 0
      },
      "text/plain": [
       "pytorch_model-00001-of-00002.bin:   0%|          | 0.00/9.94G [00:00<?, ?B/s]"
      ]
     },
     "metadata": {},
     "output_type": "display_data"
    },
    {
     "data": {
      "application/vnd.jupyter.widget-view+json": {
       "model_id": "f2a17872bf3c4d59b633862d13f9bba4",
       "version_major": 2,
       "version_minor": 0
      },
      "text/plain": [
       "pytorch_model-00002-of-00002.bin:   0%|          | 0.00/3.36G [00:00<?, ?B/s]"
      ]
     },
     "metadata": {},
     "output_type": "display_data"
    },
    {
     "name": "stderr",
     "output_type": "stream",
     "text": [
      "The model weights are not tied. Please use the `tie_weights` method before using the `infer_auto_device` function.\n"
     ]
    },
    {
     "data": {
      "application/vnd.jupyter.widget-view+json": {
       "model_id": "1e5a325ae1ff42d9a7d61f9be893a31c",
       "version_major": 2,
       "version_minor": 0
      },
      "text/plain": [
       "Loading checkpoint shards:   0%|          | 0/2 [00:00<?, ?it/s]"
      ]
     },
     "metadata": {},
     "output_type": "display_data"
    },
    {
     "data": {
      "application/vnd.jupyter.widget-view+json": {
       "model_id": "5107743a3dfd4d0b8f3c64a819eb5770",
       "version_major": 2,
       "version_minor": 0
      },
      "text/plain": [
       "generation_config.json:   0%|          | 0.00/91.0 [00:00<?, ?B/s]"
      ]
     },
     "metadata": {},
     "output_type": "display_data"
    },
    {
     "name": "stderr",
     "output_type": "stream",
     "text": [
      "WARNING:root:Some parameters are on the meta device device because they were offloaded to the cpu.\n"
     ]
    }
   ],
   "source": [
    "model_id =\"mosaicml/mpt-7b-storywriter\"\n",
    "tokenizer = AutoTokenizer.from_pretrained(model_id, trust_remote_code=True)\n",
    "model = AutoModelForCausalLM.from_pretrained(model_id, torch_dtype=torch.bfloat16, device_map=\"auto\", trust_remote_code=True)"
   ]
  },
  {
   "cell_type": "code",
   "execution_count": 3,
   "metadata": {},
   "outputs": [],
   "source": [
    "input_text = \"\"\" We are writing stories for a mobile application that helps users walk/run and train for marathons.  \n",
    "The genre and description will be in Prompt.\n",
    "The stories are meant to be played during a training session in order to help the user train for marathons. \n",
    "The story should have embedded cues for speed changes and breaks where approriate depending on the Training Style.\n",
    "\\n\n",
    "\n",
    "Can you help me write a story with the following details:\n",
    "Prompt: A zombie horror story set in New York City.\n",
    "Distance: 0.5 miles\n",
    "Average Walking Speed: 2 mph\n",
    "Average Running Speed: 5 mph\n",
    "Training Style: Short-distance sprint \\n\n",
    "\"\"\"\n",
    "# print(input_text)"
   ]
  },
  {
   "cell_type": "code",
   "execution_count": 4,
   "metadata": {},
   "outputs": [
    {
     "name": "stdout",
     "output_type": "stream",
     "text": [
      " We are writing stories for a mobile application that helps users walk/run and train for marathons.  \n",
      "The genre and description will be in Prompt.\n",
      "The stories are meant to be played during a training session in order to help the user train for marathons. \n",
      "The story should have embedded cues for speed changes and breaks where approriate depending on the Training Style.\n",
      "\n",
      "\n",
      "\n",
      "Can you help me write a story with the following details:\n",
      "Prompt: A zombie horror story set in New York City.\n",
      "Distance: 0.5 miles\n",
      "Average Walking Speed: 2 mph\n",
      "Average Running Speed: 5 mph\n",
      "Training Style: Short-distance sprint \n",
      "\n"
     ]
    },
    {
     "name": "stderr",
     "output_type": "stream",
     "text": [
      "C:\\Users\\pmahi\\.cache\\huggingface\\modules\\transformers_modules\\mosaicml\\mpt-7b-storywriter\\b41e79e5f836d9b49637779cb37db32a965c3047\\attention.py:87: UserWarning: Propagating key_padding_mask to the attention module and applying it within the attention module can cause unnecessary computation/memory usage. Consider integrating into attn_bias once and passing that to each attention module instead.\n",
      "  warnings.warn('Propagating key_padding_mask to the attention module ' + 'and applying it within the attention module can cause ' + 'unnecessary computation/memory usage. Consider integrating ' + 'into attn_bias once and passing that to each attention ' + 'module instead.')\n"
     ]
    },
    {
     "name": "stdout",
     "output_type": "stream",
     "text": [
      "<|endoftext|># **THE** _BOOK OF_   **_DARKNESS_**\n",
      "\n",
      " © 2012 by John Connolly, Ltd., Dublin 1 Ireland \n",
      " All rights reserved under International Copyright Conventions. By payment of required fees, You may not copy or distribute this book without written permission from The publisher (except as provided below). No part o fthis publication ma ybe reproduced e lsewh en t he p ermissionof th is copyright owner whic h has been obtained through permissions service s at www dot permis sonline netw ook com /permissions/. For information about photocopying an d other reprographi c reproduction righ ts contact us via our web site : http://www wileycom reprintsandpermissionsofworksbyjohnconnolloyltd iee mailtojclreprintsonly@ukpenguingroup co uk This edition published simultaneously i n Great Britain Australia Canada France Germany India Japan Mexico Spain Taiwan South Korea Singapore Thailand Turkey Vietnam & USA Wiley Publishing Asia Pte Limited 37th Level 731A North Bridge Road West Hong Kong Tel +852 3 1241 6100 Fax 852 2521 9009 ISBN 9781118050114 Printedin China Contents Preface ix Chapter One xiii Part I - THE BLOODSTONE CHRONICLES CHAPTER ONE \\- DANTE'S STORY xxv PART II – ANGELICA AND HER SON xxxiv chapter two — angelica's Story XXXIX chapteer three—the Bloodstone Chronicles XLVIIIV Chaper four–angelika Returns XLVIXXI XXVIII Angelique And Her Son Continues... LXXXVIIXLIXLXVLLLXIXXXX VOLUME TWO CONTINUES.... XVIL Volume Three Begins... LVILL VoluMe Fourteen Ends...... LIxxiiiixxxviixxxvixxxxxivxlxxxxxxxxliillllllllvolumn Fifteeen Starts....... lixcChapter Sixtyone --- Dante Meets His Father Again! Lixthe End Of An Era!!!!!! LLlxlivoxcEpilo gue To \"Darkness\" From Its Author Llxfifteenth Anniversary Edition Dedication llffourrdeventeenth anniversary ed ition ded ication iiie fifthteen anniversarry edit ion dedication iiiietwooetwentytenthannive rydediction ivielittleblackdickensdayeditio nd viernineteeenth annual daybook dedicatedction viithelastchapterofthedarknesstalesvolumepublished!!!! volumenightyethyearediteditionddescription page1 Introduction Page2 Foreword 4Foreward 10Introduction 14Part one 16part Two 20PART THREE 24CHAPTER SEVEN 28chapter Eight 30Charter Nine 32CHAPT EEN 34Chap TEE NINE 36chap Ten 38Charter Eleven 40CHARTER TW ELVE 42char ter Thir TEEn 44 CHAR TER FIFTeN 46 Char teer Si VE R 48 char TeEr Qu INE 50 Chap Ter SeVeNTY 52 chapTer SeventyeNE 53 chaPThirTYFOUR 54 ChaPtHIRTT YFifTH 55ChaPT HIRTYE GENTLE 56cha Pt THirtYeSEVENT Ye 58CHA PT ThirySe Ve NTLe 59C hapteR FortyEight 60 C Ha pt Thr EE NE 63Ca pe Tr IE Ne 65 Cape TriNe 68 caPe TRIne 72 capTri ne 74 CapTRine 76CapTrinee 78capTraInnee 80 CAP TRinner 82CAP TRAinnerr 84caPer Tra inn err 86CA Per tra Inner 88 CA Pe tr inner 90 Captra InnERR 89CaptrainNER 91captran ner 92 captRAiner 93 Captain Black 87Captain White 94 captain BLACK 97 Capitalization 98 Glossary 100 About JOHNN CONNOLLY 101About Dark Ops 102Acknowledgments 103Also Available 105Index 107Back Cover Text 109Endpapers 111Copyright 112Prefaces It was my intention when first starting out some years ago now; if ever there were any books worth reading they would all come together into what we call today 'a series'. That way readers could follow along easily enough because each volume had its own characters but also shared them so people who read more than just those volumes wouldn't feel left behind either which might happen otherwise since most authors donot like repeating themselves too much even though their fans do want continuity between novels especially nowadays thanks largely due no doubt partly downwards pressure put upon writers these days particularly hereabouts across Europe anyway although America seems less concerned over such things thankfully speaking given how many different genres seem available within American publishing circles whereas back home well let say England Scotland Wales Northern Island etceteras tend towards being very insular indeed sometimes almost parochial really regarding matters literary artistic musical theatrical dramatic political economic social religious philosophical scientific\n"
     ]
    }
   ],
   "source": [
    "encoded_input = tokenizer(input_text, return_tensors='pt').to(\"cuda\")\n",
    "streamer = TextStreamer(tokenizer)\n",
    "response = model.generate(input_ids=encoded_input.input_ids, streamer=streamer, max_new_tokens=1000, temperature=1, repetition_penalty=2.0, no_repeat_ngram_size=1).to(\"cuda\")"
   ]
  },
  {
   "cell_type": "code",
   "execution_count": 5,
   "metadata": {},
   "outputs": [
    {
     "name": "stdout",
     "output_type": "stream",
     "text": [
      " We are writing stories for a mobile application that helps users walk/run and train for marathons.  \n",
      "The genre and description will be in Prompt.\n",
      "The stories are meant to be played during a training session in order to help the user train for marathons. \n",
      "The story should have embedded cues for speed changes and breaks where approriate depending on the Training Style.\n",
      "\n",
      "\n",
      "\n",
      "Can you help me write a story with the following details:\n",
      "Prompt: A zombie horror story set in New York City.\n",
      "Distance: 0.5 miles\n",
      "Average Walking Speed: 2 mph\n",
      "Average Running Speed: 5 mph\n",
      "Training Style: Short-distance sprint \n",
      "\n",
      "# **THE** _BOOK OF_   **_DARKNESS_**\n",
      "\n",
      " © 2012 by John Connolly, Ltd., Dublin 1 Ireland \n",
      " All rights reserved under International Copyright Conventions. By payment of required fees, You may not copy or distribute this book without written permission from The publisher (except as provided below). No part o fthis publication ma ybe reproduced e lsewh en t he p ermissionof th is copyright owner whic h has been obtained through permissions service s at www dot permis sonline netw ook com /permissions/. For information about photocopying an d other reprographi c reproduction righ ts contact us via our web site : http://www wileycom reprintsandpermissionsofworksbyjohnconnolloyltd iee mailtojclreprintsonly@ukpenguingroup co uk This edition published simultaneously i n Great Britain Australia Canada France Germany India Japan Mexico Spain Taiwan South Korea Singapore Thailand Turkey Vietnam & USA Wiley Publishing Asia Pte Limited 37th Level 731A North Bridge Road West Hong Kong Tel +852 3 1241 6100 Fax 852 2521 9009 ISBN 9781118050114 Printedin China Contents Preface ix Chapter One xiii Part I - THE BLOODSTONE CHRONICLES CHAPTER ONE \\- DANTE'S STORY xxv PART II – ANGELICA AND HER SON xxxiv chapter two — angelica's Story XXXIX chapteer three—the Bloodstone Chronicles XLVIIIV Chaper four–angelika Returns XLVIXXI XXVIII Angelique And Her Son Continues... LXXXVIIXLIXLXVLLLXIXXXX VOLUME TWO CONTINUES.... XVIL Volume Three Begins... LVILL VoluMe Fourteen Ends...... LIxxiiiixxxviixxxvixxxxxivxlxxxxxxxxliillllllllvolumn Fifteeen Starts....... lixcChapter Sixtyone --- Dante Meets His Father Again! Lixthe End Of An Era!!!!!! LLlxlivoxcEpilo gue To \"Darkness\" From Its Author Llxfifteenth Anniversary Edition Dedication llffourrdeventeenth anniversary ed ition ded ication iiie fifthteen anniversarry edit ion dedication iiiietwooetwentytenthannive rydediction ivielittleblackdickensdayeditio nd viernineteeenth annual daybook dedicatedction viithelastchapterofthedarknesstalesvolumepublished!!!! volumenightyethyearediteditionddescription page1 Introduction Page2 Foreword 4Foreward 10Introduction 14Part one 16part Two 20PART THREE 24CHAPTER SEVEN 28chapter Eight 30Charter Nine 32CHAPT EEN 34Chap TEE NINE 36chap Ten 38Charter Eleven 40CHARTER TW ELVE 42char ter Thir TEEn 44 CHAR TER FIFTeN 46 Char teer Si VE R 48 char TeEr Qu INE 50 Chap Ter SeVeNTY 52 chapTer SeventyeNE 53 chaPThirTYFOUR 54 ChaPtHIRTT YFifTH 55ChaPT HIRTYE GENTLE 56cha Pt THirtYeSEVENT Ye 58CHA PT ThirySe Ve NTLe 59C hapteR FortyEight 60 C Ha pt Thr EE NE 63Ca pe Tr IE Ne 65 Cape TriNe 68 caPe TRIne 72 capTri ne 74 CapTRine 76CapTrinee 78capTraInnee 80 CAP TRinner 82CAP TRAinnerr 84caPer Tra inn err 86CA Per tra Inner 88 CA Pe tr inner 90 Captra InnERR 89CaptrainNER 91captran ner 92 captRAiner 93 Captain Black 87Captain White 94 captain BLACK 97 Capitalization 98 Glossary 100 About JOHNN CONNOLLY 101About Dark Ops 102Acknowledgments 103Also Available 105Index 107Back Cover Text 109Endpapers 111Copyright 112Prefaces It was my intention when first starting out some years ago now; if ever there were any books worth reading they would all come together into what we call today 'a series'. That way readers could follow along easily enough because each volume had its own characters but also shared them so people who read more than just those volumes wouldn't feel left behind either which might happen otherwise since most authors donot like repeating themselves too much even though their fans do want continuity between novels especially nowadays thanks largely due no doubt partly downwards pressure put upon writers these days particularly hereabouts across Europe anyway although America seems less concerned over such things thankfully speaking given how many different genres seem available within American publishing circles whereas back home well let say England Scotland Wales Northern Island etceteras tend towards being very insular indeed sometimes almost parochial really regarding matters literary artistic musical theatrical dramatic political economic social religious philosophical scientific\n"
     ]
    }
   ],
   "source": [
    "print(tokenizer.decode(response[0], skip_special_tokens=True))"
   ]
  },
  {
   "cell_type": "markdown",
   "metadata": {},
   "source": [
    "# Evaluate"
   ]
  },
  {
   "cell_type": "code",
   "execution_count": 6,
   "metadata": {},
   "outputs": [],
   "source": [
    "# perplexity = evaluate.load(\"perplexity\", module_type=\"metric\")\n",
    "# input_texts = [\"lorem ipsum\", \"Happy Birthday!\", \"Bienvenue\"]\n",
    "# results = perplexity.compute(model_id=model_id,\n",
    "#                              add_start_token=False,\n",
    "#                              predictions=input_texts, \n",
    "#                              device=\"cuda\")\n",
    "# print(list(results.keys()))"
   ]
  },
  {
   "cell_type": "code",
   "execution_count": 7,
   "metadata": {},
   "outputs": [],
   "source": [
    "# print(round(results[\"mean_perplexity\"], 2))"
   ]
  }
 ],
 "metadata": {
  "kernelspec": {
   "display_name": ".venv",
   "language": "python",
   "name": "python3"
  },
  "language_info": {
   "codemirror_mode": {
    "name": "ipython",
    "version": 3
   },
   "file_extension": ".py",
   "mimetype": "text/x-python",
   "name": "python",
   "nbconvert_exporter": "python",
   "pygments_lexer": "ipython3",
   "version": "3.11.9"
  }
 },
 "nbformat": 4,
 "nbformat_minor": 2
}
