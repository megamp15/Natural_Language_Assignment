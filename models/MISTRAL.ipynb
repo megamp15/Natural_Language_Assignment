{
 "cells": [
  {
   "cell_type": "markdown",
   "metadata": {},
   "source": [
    "#### Marathon Training Application Story Template\n",
    "##### Objective: Create an engaging story template for a marathon training application that adapts to user prompts, running metrics, and training styles. This story template will be used to generate specific stories based on user inputs and metrics."
   ]
  },
  {
   "cell_type": "code",
   "execution_count": 1,
   "metadata": {},
   "outputs": [],
   "source": [
    "# Imports\n",
    "from transformers import AutoTokenizer, AutoModelForCausalLM, TextStreamer\n",
    "import torch\n",
    "import evaluate\n",
    "from utils import save_response"
   ]
  },
  {
   "cell_type": "markdown",
   "metadata": {},
   "source": [
    "# Mistral-7B Instruct Model"
   ]
  },
  {
   "cell_type": "code",
   "execution_count": 2,
   "metadata": {},
   "outputs": [
    {
     "data": {
      "application/vnd.jupyter.widget-view+json": {
       "model_id": "31a1088bed43487cbea8afd4dfbda3db",
       "version_major": 2,
       "version_minor": 0
      },
      "text/plain": [
       "tokenizer_config.json:   0%|          | 0.00/137k [00:00<?, ?B/s]"
      ]
     },
     "metadata": {},
     "output_type": "display_data"
    },
    {
     "data": {
      "application/vnd.jupyter.widget-view+json": {
       "model_id": "033b4f19653947ac9310ca44ea0e05c7",
       "version_major": 2,
       "version_minor": 0
      },
      "text/plain": [
       "tokenizer.model:   0%|          | 0.00/587k [00:00<?, ?B/s]"
      ]
     },
     "metadata": {},
     "output_type": "display_data"
    },
    {
     "data": {
      "application/vnd.jupyter.widget-view+json": {
       "model_id": "cbb325370b31407395d68cb940c0794b",
       "version_major": 2,
       "version_minor": 0
      },
      "text/plain": [
       "tokenizer.json:   0%|          | 0.00/1.96M [00:00<?, ?B/s]"
      ]
     },
     "metadata": {},
     "output_type": "display_data"
    },
    {
     "data": {
      "application/vnd.jupyter.widget-view+json": {
       "model_id": "ad8fa79f310c4e74999b1fbd6c884ccc",
       "version_major": 2,
       "version_minor": 0
      },
      "text/plain": [
       "special_tokens_map.json:   0%|          | 0.00/414 [00:00<?, ?B/s]"
      ]
     },
     "metadata": {},
     "output_type": "display_data"
    },
    {
     "data": {
      "application/vnd.jupyter.widget-view+json": {
       "model_id": "2085f22e81f3402dadcd04e31a15ef72",
       "version_major": 2,
       "version_minor": 0
      },
      "text/plain": [
       "config.json:   0%|          | 0.00/601 [00:00<?, ?B/s]"
      ]
     },
     "metadata": {},
     "output_type": "display_data"
    },
    {
     "data": {
      "application/vnd.jupyter.widget-view+json": {
       "model_id": "5661217c7cf549dead6b838cc6f125e9",
       "version_major": 2,
       "version_minor": 0
      },
      "text/plain": [
       "model.safetensors.index.json:   0%|          | 0.00/23.9k [00:00<?, ?B/s]"
      ]
     },
     "metadata": {},
     "output_type": "display_data"
    },
    {
     "data": {
      "application/vnd.jupyter.widget-view+json": {
       "model_id": "91b6face57d646818235e89725abd331",
       "version_major": 2,
       "version_minor": 0
      },
      "text/plain": [
       "Downloading shards:   0%|          | 0/3 [00:00<?, ?it/s]"
      ]
     },
     "metadata": {},
     "output_type": "display_data"
    },
    {
     "data": {
      "application/vnd.jupyter.widget-view+json": {
       "model_id": "ae25533cb5784f0580e8e393a0458c43",
       "version_major": 2,
       "version_minor": 0
      },
      "text/plain": [
       "model-00001-of-00003.safetensors:   0%|          | 0.00/4.95G [00:00<?, ?B/s]"
      ]
     },
     "metadata": {},
     "output_type": "display_data"
    },
    {
     "data": {
      "application/vnd.jupyter.widget-view+json": {
       "model_id": "ee0f78d59325403fbec23a8a0c0fda8e",
       "version_major": 2,
       "version_minor": 0
      },
      "text/plain": [
       "model-00002-of-00003.safetensors:   0%|          | 0.00/5.00G [00:00<?, ?B/s]"
      ]
     },
     "metadata": {},
     "output_type": "display_data"
    },
    {
     "data": {
      "application/vnd.jupyter.widget-view+json": {
       "model_id": "a95f2d1e079d4821baccde55df9c1a8a",
       "version_major": 2,
       "version_minor": 0
      },
      "text/plain": [
       "model-00003-of-00003.safetensors:   0%|          | 0.00/4.55G [00:00<?, ?B/s]"
      ]
     },
     "metadata": {},
     "output_type": "display_data"
    },
    {
     "name": "stderr",
     "output_type": "stream",
     "text": [
      "c:\\Users\\pmahi\\OneDrive\\Desktop\\MP\\Drexel\\Courses\\CS614-900 - Applications in Machine Learning\\Projects\\Natural_Language_Assignment\\.venv\\Lib\\site-packages\\accelerate\\utils\\modeling.py:1365: UserWarning: Current model requires 318769536 bytes of buffer for offloaded layers, which seems does not fit any GPU's remaining memory. If you are experiencing a OOM later, please consider using offload_buffers=True.\n",
      "  warnings.warn(\n"
     ]
    },
    {
     "data": {
      "application/vnd.jupyter.widget-view+json": {
       "model_id": "b206c2d88fc24a3b90bda79462fc9aeb",
       "version_major": 2,
       "version_minor": 0
      },
      "text/plain": [
       "Loading checkpoint shards:   0%|          | 0/3 [00:00<?, ?it/s]"
      ]
     },
     "metadata": {},
     "output_type": "display_data"
    },
    {
     "data": {
      "application/vnd.jupyter.widget-view+json": {
       "model_id": "7a2a0f008ab8423c92930a893d050778",
       "version_major": 2,
       "version_minor": 0
      },
      "text/plain": [
       "generation_config.json:   0%|          | 0.00/116 [00:00<?, ?B/s]"
      ]
     },
     "metadata": {},
     "output_type": "display_data"
    },
    {
     "name": "stderr",
     "output_type": "stream",
     "text": [
      "WARNING:root:Some parameters are on the meta device device because they were offloaded to the cpu.\n"
     ]
    }
   ],
   "source": [
    "model_id =\"mistralai/Mistral-7B-Instruct-v0.3\"\n",
    "tokenizer = AutoTokenizer.from_pretrained(model_id)\n",
    "model = AutoModelForCausalLM.from_pretrained(model_id, torch_dtype=torch.bfloat16, device_map=\"auto\")\n"
   ]
  },
  {
   "cell_type": "code",
   "execution_count": 3,
   "metadata": {},
   "outputs": [
    {
     "name": "stdout",
     "output_type": "stream",
     "text": [
      "\n",
      "### Instruction:\n",
      "We have created a fitness app that helps users train for marathons. The app uses stories to help users train. The stories are generated based on user input/biometric data. \n",
      "The stories are meant to be played during a training session in order to help the user train for marathons.\n",
      "You are a AI writer who's job is to create stories in various genres.\n",
      "The genre and description will come by user input called Prompt.\n",
      "The story should have embedded cues for user speed changes and breaks where approriate depending on the Training Style.\n",
      "\n",
      "### Input:\n",
      "Can you help me write a story with the following details:\n",
      "Prompt: A action packed adventure story based off of Indiana Jones, include outrunning deadly traps, a chase scene with a treasure hunter and a villain, jungles and ancient ruins.\n",
      "Distance: 13.1 miles\n",
      "Average Walking Speed: 2.5 mph\n",
      "Average Running Speed: 7.2 mph\n",
      "Training Style: Half Marathon\n",
      "\n",
      "### Response:\n",
      "\n"
     ]
    }
   ],
   "source": [
    "# Constants for prompt generation\n",
    "INSTRUCTION_KEY = \"### Instruction:\"\n",
    "INPUT_KEY = \"### Input:\"\n",
    "RESPONSE_KEY = \"### Response:\"\n",
    "\n",
    "INSTRUCTION = \"\"\"We have created a fitness app that helps users train for marathons. The app uses stories to help users train. The stories are generated based on user input/biometric data. \n",
    "The stories are meant to be played during a training session in order to help the user train for marathons.\n",
    "You are a AI writer who's job is to create stories in various genres.\n",
    "The genre and description will come by user input called Prompt.\n",
    "The story should have embedded cues for user speed changes and breaks where approriate depending on the Training Style.\n",
    "\"\"\"\n",
    "\n",
    "INPUT = \"\"\"Can you help me write a story with the following details:\n",
    "Prompt: A action packed adventure story based off of Indiana Jones, include outrunning deadly traps, a chase scene with a treasure hunter and a villain, jungles and ancient ruins.\n",
    "Distance: 13.1 miles\n",
    "Average Walking Speed: 2.5 mph\n",
    "Average Running Speed: 7.2 mph\n",
    "Training Style: Half Marathon\n",
    "\"\"\"\n",
    "\n",
    "input_text = \"\"\"\n",
    "{instruction_key}\n",
    "{instruction}\n",
    "{input_key}\n",
    "{input}\n",
    "{response_key}\n",
    "\"\"\".format(\n",
    "    instruction_key=INSTRUCTION_KEY,\n",
    "    instruction=INSTRUCTION,\n",
    "    input_key=INPUT_KEY, \n",
    "    input=INPUT,\n",
    "    response_key=RESPONSE_KEY,\n",
    ")\n",
    "print(input_text)"
   ]
  },
  {
   "cell_type": "code",
   "execution_count": 9,
   "metadata": {},
   "outputs": [
    {
     "name": "stderr",
     "output_type": "stream",
     "text": [
      "The attention mask and the pad token id were not set. As a consequence, you may observe unexpected behavior. Please pass your input's `attention_mask` to obtain reliable results.\n",
      "Setting `pad_token_id` to `eos_token_id`:2 for open-end generation.\n"
     ]
    },
    {
     "name": "stdout",
     "output_type": "stream",
     "text": [
      "<s> \n",
      "### Instruction:\n",
      "We have created a fitness app that helps users train for marathons. The app uses stories to help users train. The stories are generated based on user input/biometric data. \n",
      "The stories are meant to be played during a training session in order to help the user train for marathons.\n",
      "You are a AI writer who's job is to create stories in various genres.\n",
      "The genre and description will come by user input called Prompt.\n",
      "The story should have embedded cues for user speed changes and breaks where approriate depending on the Training Style.\n",
      "\n",
      "### Input:\n",
      "Can you help me write a story with the following details:\n",
      "Prompt: A action packed adventure story based off of Indiana Jones, include outrunning deadly traps, a chase scene with a treasure hunter and a villain, jungles and ancient ruins.\n",
      "Distance: 13.1 miles\n",
      "Average Walking Speed: 2.5 mph\n",
      "Average Running Speed: 7.2 mph\n",
      "Training Style: Half Marathon\n",
      "\n",
      "### Response:\n",
      "Title : \"Indiana Johnstone - Temple Run\" (Half-Marathan Edition) [Mile Marker] **0** Miles Remains:***  ****Total Time**: *6 Hours &amp; Minutes Left*** \\*\\\\nDrifting through dense foliage under an emerald canopy overhead as he navigated his way deeper into uncharted territory was no stranger feat even after countless expeditions across continents.\\_John Stone\\_ had seen it all before but this time something felt different... almost ominous._As if sensitized from years spent decipher cryptic symbols etched onto stone tablets or perhaps just intuition honored over decades_, _he knew they were close_. Close indeed! For there lay ahead not only one temple hidden amongst these verdant hillsides waiting patiently since antiquity past its prime,_but two!_One shrouded deep within shadows cast long upon itself while another stood proud against azure skies like some forgotten sentinel guardian lost amidst eon’ s passage.***(Speed Up)** Moving swift yet silent beneath towering trees drape dwith vines thick enough choke most men at first glance,\\_**Stone found himself drawn towards both temples simultaneously**. He could feel their power pulsating rhythmically together calling him forth ever closer until finally reaching them sidebyside each other enshrined behind crumbling walls adorn wth intricate carvings depict scenes unfamiliar save those whispered tales passed down generations ago.*(Break)* As our hero approached what appeared once grand entrances now reduced mere gap ing doorways barely wide sufficient single man pass thru ,a sudden realization struck hard:_These aren t merely relicsof distantpast_;theyre active portals leading straight heart darkness!\\_\\_(Accelerate)\\_*With little hesitation nor fear gripping hold tight chest**,__our intrepid adventurer leapt forward plummetting headfirst between darkened archway revealing vast cavern beyond bathed dim glow emanatng eerie luminary sources unknown origin*. *(Slow Down / Break )*: Inchwormlike progression led further along narrow path lined grotesque statuettes twisted contorted forms frozen mid stride seemingly forevermore . Each step echo reverberation chamber amplifying every footfall sending shiver spine reminding how alone protagonist truly remained here far removed civilization comfort familiar sounds humanity offered protection safety so often taken granted back home.(Pick up pace): Suddenly breaking free oppressive atmosphere surrounding tomb entrance loomed large imposing figure clad black robes stepped boldy foreground blocking entire tunnel exit glaring baleful eyes reflect flickers torchlight held aloft hand clutch tightly bound scroll parcel secrets untold mysterys buried ages yore!(Run!) With nary moment wasted __the race began__, treacherously steep steps carved directly wall descending precipice below threatening death trap lurking around corner any misstep send tumbling fate uncertain abomination await final destination.__But fortune favors brave hearts willing take risks despite odds stack heavily aginst victory__. And thus did young Mr Stones journey continue apace traversal peril filled labyrinthine corridorto face ultimate test endurance halfmaraton distance stretching horizon line taunting relentlessly mile marker ticktock counting precious seconds slipping away faster than feet pound ground floor above!*(*End*) Congratulations!! You completed your 'Temple run', covering approximately ***half – marblethon'''. Your average walking speeds maintained @ ~`{walkspeed}`miles hour`, whereas running spurred burst averaged `runningspeed``mp hrs`. Keep pushing yourself harder next week !</s>\n"
     ]
    }
   ],
   "source": [
    "hyperparams = {\n",
    "    \"max_new_tokens\": 1000, \n",
    "    \"temperature\":0.6, \n",
    "    \"repetition_penalty\":2.0, \n",
    "    \"no_repeat_ngram_size\":1\n",
    "}\n",
    "encoded_input = tokenizer(input_text, return_tensors='pt').to(\"cuda\")\n",
    "streamer = TextStreamer(tokenizer)\n",
    "response = model.generate(input_ids=encoded_input.input_ids, \n",
    "                        streamer=streamer, \n",
    "                        max_new_tokens=hyperparams[\"max_new_tokens\"], \n",
    "                        temperature=hyperparams[\"temperature\"], \n",
    "                        repetition_penalty=hyperparams[\"repetition_penalty\"], \n",
    "                        no_repeat_ngram_size=hyperparams[\"no_repeat_ngram_size\"]).to(\"cuda\")"
   ]
  },
  {
   "cell_type": "code",
   "execution_count": 10,
   "metadata": {},
   "outputs": [
    {
     "name": "stdout",
     "output_type": "stream",
     "text": [
      "\n",
      "### Instruction:\n",
      "We have created a fitness app that helps users train for marathons. The app uses stories to help users train. The stories are generated based on user input/biometric data. \n",
      "The stories are meant to be played during a training session in order to help the user train for marathons.\n",
      "You are a AI writer who's job is to create stories in various genres.\n",
      "The genre and description will come by user input called Prompt.\n",
      "The story should have embedded cues for user speed changes and breaks where approriate depending on the Training Style.\n",
      "\n",
      "### Input:\n",
      "Can you help me write a story with the following details:\n",
      "Prompt: A action packed adventure story based off of Indiana Jones, include outrunning deadly traps, a chase scene with a treasure hunter and a villain, jungles and ancient ruins.\n",
      "Distance: 13.1 miles\n",
      "Average Walking Speed: 2.5 mph\n",
      "Average Running Speed: 7.2 mph\n",
      "Training Style: Half Marathon\n",
      "\n",
      "### Response:\n",
      "Title : \"Indiana Johnstone - Temple Run\" (Half-Marathan Edition) [Mile Marker] **0** Miles Remains:***  ****Total Time**: *6 Hours &amp; Minutes Left*** \\*\\\\nDrifting through dense foliage under an emerald canopy overhead as he navigated his way deeper into uncharted territory was no stranger feat even after countless expeditions across continents.\\_John Stone\\_ had seen it all before but this time something felt different... almost ominous._As if sensitized from years spent decipher cryptic symbols etched onto stone tablets or perhaps just intuition honored over decades_, _he knew they were close_. Close indeed! For there lay ahead not only one temple hidden amongst these verdant hillsides waiting patiently since antiquity past its prime,_but two!_One shrouded deep within shadows cast long upon itself while another stood proud against azure skies like some forgotten sentinel guardian lost amidst eon’ s passage.***(Speed Up)** Moving swift yet silent beneath towering trees drape dwith vines thick enough choke most men at first glance,\\_**Stone found himself drawn towards both temples simultaneously**. He could feel their power pulsating rhythmically together calling him forth ever closer until finally reaching them sidebyside each other enshrined behind crumbling walls adorn wth intricate carvings depict scenes unfamiliar save those whispered tales passed down generations ago.*(Break)* As our hero approached what appeared once grand entrances now reduced mere gap ing doorways barely wide sufficient single man pass thru ,a sudden realization struck hard:_These aren t merely relicsof distantpast_;theyre active portals leading straight heart darkness!\\_\\_(Accelerate)\\_*With little hesitation nor fear gripping hold tight chest**,__our intrepid adventurer leapt forward plummetting headfirst between darkened archway revealing vast cavern beyond bathed dim glow emanatng eerie luminary sources unknown origin*. *(Slow Down / Break )*: Inchwormlike progression led further along narrow path lined grotesque statuettes twisted contorted forms frozen mid stride seemingly forevermore . Each step echo reverberation chamber amplifying every footfall sending shiver spine reminding how alone protagonist truly remained here far removed civilization comfort familiar sounds humanity offered protection safety so often taken granted back home.(Pick up pace): Suddenly breaking free oppressive atmosphere surrounding tomb entrance loomed large imposing figure clad black robes stepped boldy foreground blocking entire tunnel exit glaring baleful eyes reflect flickers torchlight held aloft hand clutch tightly bound scroll parcel secrets untold mysterys buried ages yore!(Run!) With nary moment wasted __the race began__, treacherously steep steps carved directly wall descending precipice below threatening death trap lurking around corner any misstep send tumbling fate uncertain abomination await final destination.__But fortune favors brave hearts willing take risks despite odds stack heavily aginst victory__. And thus did young Mr Stones journey continue apace traversal peril filled labyrinthine corridorto face ultimate test endurance halfmaraton distance stretching horizon line taunting relentlessly mile marker ticktock counting precious seconds slipping away faster than feet pound ground floor above!*(*End*) Congratulations!! You completed your 'Temple run', covering approximately ***half – marblethon'''. Your average walking speeds maintained @ ~`{walkspeed}`miles hour`, whereas running spurred burst averaged `runningspeed``mp hrs`. Keep pushing yourself harder next week !\n"
     ]
    }
   ],
   "source": [
    "output = tokenizer.decode(response[0], skip_special_tokens=True)\n",
    "print(output)"
   ]
  },
  {
   "cell_type": "code",
   "execution_count": 11,
   "metadata": {},
   "outputs": [],
   "source": [
    "save_response(\"MISTRAL-7B-Instructv0.3\", hyperparams, output)"
   ]
  },
  {
   "cell_type": "markdown",
   "metadata": {},
   "source": [
    "# Evaluate"
   ]
  },
  {
   "cell_type": "code",
   "execution_count": 12,
   "metadata": {},
   "outputs": [],
   "source": [
    "# perplexity = evaluate.load(\"perplexity\", module_type=\"metric\")\n",
    "# input_texts = [\"lorem ipsum\", \"Happy Birthday!\", \"Bienvenue\"]\n",
    "# results = perplexity.compute(model_id=model_id,\n",
    "#                              add_start_token=False,\n",
    "#                              predictions=input_texts, \n",
    "#                              device=\"cuda\")\n",
    "# print(list(results.keys()))"
   ]
  },
  {
   "cell_type": "code",
   "execution_count": 13,
   "metadata": {},
   "outputs": [],
   "source": [
    "# print(round(results[\"mean_perplexity\"], 2))"
   ]
  }
 ],
 "metadata": {
  "kernelspec": {
   "display_name": ".venv",
   "language": "python",
   "name": "python3"
  },
  "language_info": {
   "codemirror_mode": {
    "name": "ipython",
    "version": 3
   },
   "file_extension": ".py",
   "mimetype": "text/x-python",
   "name": "python",
   "nbconvert_exporter": "python",
   "pygments_lexer": "ipython3",
   "version": "3.11.9"
  }
 },
 "nbformat": 4,
 "nbformat_minor": 2
}
