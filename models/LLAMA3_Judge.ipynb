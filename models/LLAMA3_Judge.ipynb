{
 "cells": [
  {
   "cell_type": "code",
   "execution_count": 1,
   "metadata": {},
   "outputs": [],
   "source": [
    "from transformers import AutoTokenizer, AutoModelForCausalLM, BitsAndBytesConfig\n",
    "import torch\n",
    "from utils import save_response"
   ]
  },
  {
   "cell_type": "markdown",
   "metadata": {},
   "source": [
    "# Llama 3 - 8B Instruct Model"
   ]
  },
  {
   "cell_type": "code",
   "execution_count": 2,
   "metadata": {},
   "outputs": [
    {
     "name": "stderr",
     "output_type": "stream",
     "text": [
      "Special tokens have been added in the vocabulary, make sure the associated word embeddings are fine-tuned or trained.\n"
     ]
    },
    {
     "data": {
      "application/vnd.jupyter.widget-view+json": {
       "model_id": "0898d24984b941d882c80091907757e5",
       "version_major": 2,
       "version_minor": 0
      },
      "text/plain": [
       "Loading checkpoint shards:   0%|          | 0/4 [00:00<?, ?it/s]"
      ]
     },
     "metadata": {},
     "output_type": "display_data"
    },
    {
     "name": "stderr",
     "output_type": "stream",
     "text": [
      "WARNING:root:Some parameters are on the meta device device because they were offloaded to the cpu and disk.\n"
     ]
    }
   ],
   "source": [
    "model_id = \"meta-llama/Meta-Llama-3-8B-Instruct\"\n",
    "tokenizer = AutoTokenizer.from_pretrained(model_id)\n",
    "model = AutoModelForCausalLM.from_pretrained(model_id, torch_dtype=torch.bfloat16, device_map=\"auto\")"
   ]
  },
  {
   "cell_type": "markdown",
   "metadata": {},
   "source": []
  },
  {
   "cell_type": "code",
   "execution_count": 3,
   "metadata": {},
   "outputs": [],
   "source": [
    "messages = [\n",
    "    {\"role\": \"system\", \"content\": f\"\"\"We have created a fitness app that helps users train for marathons. The app uses stories to help users train. The stories are generated based on user input/biometric data. \n",
    "The stories are meant to be played during a training session in order to help the user train for marathons.\n",
    "You are a AI judge who rates and determines which output better fits the following criteria. The first criteria is the prompt, the second is the distance of the walk/run, \n",
    "the third is the average walking speed, the fourth is the average running speed, and the fifth is the training style (such as endurance run, walk, or anaerobic sprints). \n",
    "The story should have embedded cues for user speed changes and breaks where approriate depending on the Training Style.\n",
    "\n",
    "Your job is to critique all of the different outputs and determine which one is the best. You will be given a prompt and the criteria listed above.\n",
    "Rank all criteria seperately and then average the scores and give an overall score on a scale of 1-100. \n",
    "\n",
    "Format your response after the following examples:\n",
    "\n",
    "Example story 1: \n",
    "\n",
    "Here's a zombie horror story set in New York City for a 0.5-mile training session with a short-distance sprint training style.\n",
    "\n",
    "**Story: \"The Brooklyn Bridge Apocalypse\"**\n",
    "\n",
    "You're a survivor of a zombie outbreak in New York City. You've managed to escape the initial chaos and find yourself on the Brooklyn Bridge, trying to make your way to safety. As you look around, you see the Manhattan skyline in the distance, but you know it's crawling with undead.\n",
    "\n",
    "You start your journey, your heart racing with every step. You can hear the distant moans and groans of the zombies, and you know you need to move fast. You break into a sprint, your feet pounding the pavement as you make your way across the bridge.\n",
    "\n",
    "**Cue: Speed up to 5 mph**\n",
    "\n",
    "As you run, you notice the zombies are getting closer. You can see them shambling towards you, their eyes fixed on you with an unnatural hunger. You pick up speed, your breathing heavy as you try to outrun the undead.\n",
    "\n",
    "Suddenly, you hear a loud thud behind you. You glance back to see a zombie stumbling onto the bridge, its arms outstretched. You don't hesitate, pushing yourself to run even faster.\n",
    "\n",
    "**Cue: Sprint for 0.25 miles**\n",
    "\n",
    "You're almost halfway across the bridge when you see a group of survivors huddled together, trying to escape the chaos. You spot a safe haven and make a beeline for it.\n",
    "\n",
    "As you approach, you notice the survivors are armed and ready to defend themselves. They welcome you with open arms, and you take a moment to catch your breath.\n",
    "\n",
    "**Cue: Walk for 0.15 miles**\n",
    "\n",
    "But your respite is short-lived. The zombies are closing in, and the survivors need your help to fend them off. You grab a nearby bat and join the fight, swinging it wildly at the undead.\n",
    "\n",
    "**Cue: Sprint for 0.1 miles**\n",
    "\n",
    "You manage to fend off the zombies, but you know you need to keep moving. You grab a few supplies and continue your journey across the bridge, the Manhattan skyline looming ahead.\n",
    "\n",
    "As you near the end of the bridge, you see a glimmer of hope – a safe zone, marked by a bright light. You sprint towards it, the zombies hot on your heels.\n",
    "\n",
    "**Cue: Sprint to the finish**\n",
    "\n",
    "You burst through the gates, exhausted but alive. You've made it to safety, but you know the fight is far from over.\n",
    "--------------------------------------------\n",
    "\n",
    "Rating:\n",
    "\n",
    "I'll rate each criterion separately and then average the scores to give an overall score.\n",
    "\n",
    "**Prompt (20 points):**\n",
    "The prompt is creative and engaging, setting the scene for a thrilling zombie horror story. The use of vivid descriptions and imagery helps to immerse the user in the narrative. Score: 18/20\n",
    "\n",
    "**Distance (20 points):**\n",
    "The distance of 0.5 miles is accurately reflected in the story, with a clear separation between the initial sprint and the subsequent break. Length of story should more accurately reflect\n",
    "the length of the exercise checkpoints. Score: 16/20\n",
    "\n",
    "**Average Walking Speed (20 points):**\n",
    "The story does not explicitly mention walking speed, but the initial sprint is described as \"breakneck speeds\" which is consistent with a higher running speed. \n",
    "However, the story does not account for the average walking speed of 2 mph. Score: 10/20\n",
    "\n",
    "**Average Running Speed (20 points):**\n",
    "The initial sprint is described as \"breakneck speeds\" which is consistent with a higher running speed, and the subsequent break allows the user to recover before resuming at a higher intensity. Score: 18/20\n",
    "\n",
    "**Training Style (20 points):**\n",
    "The story accurately reflects the short-distance sprint training style, with a clear emphasis on speed and intensity. The cues for speed changes and breaks are well-integrated into the narrative. Score: 19/20\n",
    "\n",
    "Total score = (18 + 16 + 10 + 18 + 19) / 5 = 16.2/20\n",
    "= 81/100\n",
    "\n",
    "--------------------------------------------\n",
    "\n",
    "Example story 2:\n",
    "\n",
    "Title : \"Escape from Ground Zero\" (Zombies of NYC) - Marathon Survival Story, \n",
    "\n",
    "Part I [Short Distance Sprint]​[Mile Marker Reached – Start Line / Remainder Miles Left =  1 MILES LEFT ] \n",
    "​In an eerily quiet city once known as bustling metropolis now lies desolate streets filled only silence...and hunger! You find yourself running through Times Square at breakneck speeds; your heart pounded against chest like drums playing out their own macabre symphony . As adrenaline courses though veins ,you can feel every muscle strained under exertion but there’ s no time left stop or rest ! Behind comes hordes undead creatures shambling towards ground zero—the epicenter outbreak which has turned this concrete jungle into nightmare landscape teemming flesh eating monstrosities lurking around each corner waiting pounce unsuspect victims.\n",
    "[RUNNING SPEED CUE HERE][BREAK AFTER HALF MILE REACHED OR WHEN USER NEARLY EXHAUSTION SET IN AND THIRSTY FOR WATERS STOP AT FONTANESCA FOUNTAIN TO TEMPORARY QUench YOUR Thirst BEFORE CONTinuing RACE WITH DEATH.] \n",
    "\n",
    "In front stands towering skyscrapers casting long shadows over desert roads below them while above looms dark clouds threatening rainstorm imminent adding another layer dread hanging heavy air all round us.. But we must press forward if hope survive![END OF BLOCK ONE].As our hero continues his desperate flight across Manhattan he encounters more obstacles than ever before — abandoned cars blocking pathways forcing him jump onto rooftops dodge falling debris narrowly escaping certain doom again &again…But still they keep coming closer faster bit harder claw marks scratch deep gashes skin leaving behind trail bloodied footprints mark territory ahead….Will power surging within fuel final push escape? Or shall fate claim victory here amid ruination remains former empire state building ? Only one way know....Keep moving!!!!!\n",
    "(Racing Heartbeat Sound Effect Here)[Running Resumes After Break End). \n",
    "\n",
    "With renew determination grip tightened fists gritted teeth glaring eyes fixed straight road stretching endlessly uphill battle seems never ending yet somehow strength found reserves hidden depth unbeknown even ourselves until tested such extremity survival instinct kicks gear pushing body beyond\n",
    "\n",
    "\n",
    "Rating:\n",
    "\n",
    "**Prompt (20 points):** Prompt is overly wordy and lacks creativity. The story is set in New York City during a zombie outbreak, but the narrative is not engaging or immersive. Score: 12/20\n",
    "\n",
    "**Distance (20 points):** The story does not accurately reflect the 0.5-mile distance, as the narrative extends beyond the initial sprint. The checkpoints are not clearly defined, making it difficult for the user to track their progress. Score: 8/20\n",
    "\n",
    "**Average Walking Speed (20 points):** The story does not account for the average walking speed of 2 mph, as the narrative focuses on a continuous sprint. The lack of variation in speed detracts from the realism of the training session. Score: 5/20\n",
    "\n",
    "**Average Running Speed (20 points):**  The story accurately reflects the average running speed of 5 mph, with a clear emphasis on speed and intensity. There really are no queues for speed change besides an all out sprint. Score: 18/20\n",
    "\n",
    "**Training Style (20 points):** The story does not accurately reflect the short-distance sprint training style, as the narrative focuses on a continuous sprint rather instead of an endurance based marathon training. The cues for speed changes and breaks are not well-integrated into the narrative. Score: 4/20\n",
    "\n",
    "Total score: (12 + 8 + 5 + 18 + 4) / 5 = 9.4/20\n",
    "\n",
    "--------------------------------------------\n",
    "\n",
    "Example story 3:\n",
    "\n",
    "LLAMA - 750\n",
    "\n",
    "Here's a story for you:\n",
    "\n",
    "**The Quest for the Golden Idol**\n",
    "\n",
    "As I ventured deeper into the dense jungle, the air grew thick with humidity and the sounds of exotic birds and animals echoed through the trees. I had been searching for weeks, following cryptic clues and ancient maps, to uncover the location of the legendary Golden Idol. Rumors whispered that it was hidden within the ruins of a long-lost civilization, guarded by deadly traps and treacherous terrain.\n",
    "\n",
    "As I pushed through the underbrush, I stumbled upon a clearing, and my eyes widened in awe. Before me lay the entrance to the ancient city, a sprawling complex of crumbling temples and pyramids. I could feel the excitement coursing through my veins as I approached the entrance.\n",
    "\n",
    "Suddenly, I heard the sound of rustling leaves behind me. I turned to see a rival treasure hunter, the notorious Dr. Vortex, emerging from the jungle. His eyes locked onto mine, and a sinister grin spread across his face.\n",
    "\n",
    "\"You'll never find the Golden Idol before me,\" he sneered, his voice dripping with malice.\n",
    "\n",
    "I knew I had to move fast. I began to sprint through the ruins, dodging ancient stone statues and leaping over treacherous pitfalls. Dr. Vortex was hot on my heels, his footsteps echoing through the city.\n",
    "\n",
    "**Cue: Speed up to 7.2 mph for the next 0.5 miles**\n",
    "\n",
    "As I ran, I could hear the sound of deadly traps springing to life around me. I dodged swinging blades and leapt over pressure plates, my heart racing with excitement and fear.\n",
    "\n",
    "After a few minutes of intense running, I reached the first temple, where I had to solve a puzzle to unlock the door. I quickly worked through the ancient symbols, and the door creaked open, revealing a hidden chamber.\n",
    "\n",
    "Dr. Vortex was closing in, and I knew I had to keep moving. I sprinted through the chamber, my footsteps echoing off the stone walls.\n",
    "\n",
    "**Cue: Slow down to 2.5 mph for a 0.2-mile walk**\n",
    "\n",
    "As I walked, I caught my breath and took a moment to survey my surroundings. The chamber was filled with ancient artifacts and treasures, but I knew I had to keep my focus on the Golden Idol.\n",
    "...\n",
    "\n",
    "**Total Distance: 13.1 miles**\n",
    "\n",
    "I hope you enjoy this story! Let me know if you need any changes.\n",
    "Output is truncated. View as a scrollable element or open in a text editor. Adjust cell output settings...\n",
    "\n",
    "Rating:\n",
    "\n",
    "** Prompt (20 points):** The prompt is well-executed, setting the stage for an action-packed adventure story based on Indiana Jones. The story incorporates elements of outrunning deadly traps, a chase scene with a treasure hunter and a villain, jungles, and ancient ruins. Score: 18/20\n",
    "\n",
    "**Distance (20 points):** The story does not at all accurately reflects the 13.1-mile distance, it start's with a half mile sprint into a 0.2 mile walk and doesn't explain the other 12.4 miles at all Score: 3/20\n",
    "\n",
    "**Average Walking Speed (20 points):** The story does not account for the average walking speed of 2.5 mph, as the narrative focuses on a continuous sprint. The lack of variation in speed detracts from the realism of the training session. Score: 5/20\n",
    "\n",
    "**Average Running Speed (20 points):** The story accurately reflects the average running speed of 7.2 mph, with a clear emphasis on speed and intensity. There is only a change between a sprint to a walk with no diversity. Score: 6/20\n",
    "\n",
    "**Training Style (20 points):** The story does not accurately reflect the marathon training style, as the narrative focuses on a continuous sprint rather than an endurance-based run. The cues for speed changes and breaks are not well-integrated into the narrative. Score: 4/20\n",
    "\n",
    "Total score: (18 + 3 + 5 + 6 + 4) / 5 = 7.2/20\n",
    "\n",
    "\"\"\"},\n",
    "    \n",
    "    {\"role\": \"user\", \"content\": f\"\"\"Here is the first output which starts with the prompt and then the story. \\n:\n",
    "     \n",
    "Prompt: A action packed adventure story based off of Indiana Jones, include outrunning deadly traps, a chase scene with a treasure hunter and a villain, jungles and ancient ruins.\n",
    "Distance: 13.1 miles\n",
    "Average Walking Speed: 2.5 mph\n",
    "Average Running Speed: 7.2 mph\n",
    "Training Style: Half Marathon\n",
    "\n",
    "It’S JULIET! It starts like everyone knows it SHOOTING OFF IN THE GREAT DEADLY TRAPS OF IRON-CLUB WORLD!!!!! He takes his bow but when one appears he droppt down behind some crates ! Then all these things appear around him there s rocks fallng from walls so fast bah BANG !! BOOM THEN HE SWOOPES UP FROM BELOW U SEE PANNED NOW AND IT IS DARKER FINALLY SOUTH FORWARD RIGHT TO GET MOVIE ONSET... (PLAY CATCHUP)....THEN RUNRUN THIS ALL MAKEFULL COMMENT REGIONAL START MUSIC????? HIGHPLEXEL? TRAP ROCK CRASH CLIPPITZCRIIIIIMPLOPE ....GO ALRIGHT .. ANNO YOU OUTLAST EVERDED LANDMANS LIKE RAIDMAN NOODLERS ? Noodler ?? OK , its gonna go nw then run fwd again . ok now we got shots at different angles ... okay here they enter this old village just after warming up maybe get lost or something cause right away people attack them both not slowy as u can see lol I smell gold though why dont thoooosers pick us :p Ok guys running ahead let em pass quickly wtf do i look dumb rn lets continue yay short distance half mile about seven minutes walking time five seconds crossbow shot..walk faster etc walk more slowly turn left going into battle area next stop cutdown wait what oh man first blood very exciting donotlooki know if ill kill anyone im too cool idk how many noobs killed before hauntingman dies looking stupid oops also lots other guns used well anyhow keep shooting die already shoota lot nahh never mind another minute later almost ran someone say \"came\" alright need less background noise take three steps back move forward kick near hand guards slit neak hands knives use gun throw sword slash stab jump climb grab hold claws punches body hit grenades blow torch blaster laser eyes eye cover roar loud boom scream sound stuff coming closer make our heart rate rise because close fighting happens mostly really intense please listen carefully especially big spikes getting smaller while still being huge awesome tails whack head chopping arms swing throwing weapons rolling objects flying overcoming obstacles vicious actions words shoutings speech sounds monkeys speaking animals saying important lines exclamations such statements describing fight scenes including descriptions visualizing surroundling elements characters posotion expression gestures movement scenic designs landscape locations landmarks features environmental settings audio video animation graphical images creatures spirits zombies skeletor evil minters menace darkness flames fire wind smoke rain snow night day sun light shadow lights stars constellaints air clouds mist sandstone rock crystal sky water sprinklers iris earth moon twilight mountains trees branches leaves thick roots flowers flower petals grass shooting star fog silhouette reddish purple blue orange green yellow magenta plasma silver black electric white turquise translucent violets scarlato gray cyan grey teal lavender burgundywine colorful pastel colors aquamarines dark saffron indigo rose tan brown egluksred metallics diamond shapes multicolored spears bulky textured skinny muscular bodies fat thin curvy limbs sharp teeth cladding hair mouthpieces horn antagonist appearance contrast perspective viewpoint narration directors commentary score suspense excitement humor thrilling plot development dramatic music playlist character dialogue setting ambient ambience environment weather atmosphere emotions psychology mental focus inner thoughts feelings dream sequences ideas imagination concept imaginary concepts surreal realistic events fictional scenarios random occurrences memories flashback remembran below showcase replay pause zoom follow directions key tips shortcut footage montages sublimity archery graveyard tomb mausoleum skull face sweat arena steeples cave passageways forest woodlands fields vegetable garden house car park kitchen cupboard roof railing sidewall gatefront yard building ground street corner city roads mountain valley range plaza parkinglot square field court benchtables table chair desklife treehouse room floor hall closet ceileroom basement tunnel ventilation fan engine coils machine assembly section pipelines switchbox mainframe device system interface panel display screen monitor electronic circuit board terminal electron flow current voltage pulsing photon power quantum dynamics atomic scale structures space dimensions frequency cycles periodic patterns energy motion physical laws natural phenomena mathematical theories logic reasoning causality consequence effect theory principle operation component structure mechanism function activity process reaction pattern procedure element sequence step cycle repetition\n",
    "\"\"\"},\n",
    "]\n",
    "\n",
    "input_ids = tokenizer.apply_chat_template(\n",
    "    messages,\n",
    "    add_generation_prompt=True,\n",
    "    return_tensors=\"pt\"\n",
    ").to(model.device)\n",
    "\n",
    "terminators = [\n",
    "    tokenizer.eos_token_id,\n",
    "    tokenizer.convert_tokens_to_ids(\"<|eot_id|>\")\n",
    "]"
   ]
  },
  {
   "cell_type": "code",
   "execution_count": 4,
   "metadata": {},
   "outputs": [
    {
     "name": "stderr",
     "output_type": "stream",
     "text": [
      "The attention mask and the pad token id were not set. As a consequence, you may observe unexpected behavior. Please pass your input's `attention_mask` to obtain reliable results.\n",
      "Setting `pad_token_id` to `eos_token_id`:128009 for open-end generation.\n",
      "c:\\Users\\colin\\OneDrive\\Desktop\\Applied ML\\NLP Assignment\\Natural_Language_Assignment\\.venv\\Lib\\site-packages\\transformers\\models\\llama\\modeling_llama.py:649: UserWarning: 1Torch was not compiled with flash attention. (Triggered internally at ..\\aten\\src\\ATen\\native\\transformers\\cuda\\sdp_utils.cpp:455.)\n",
      "  attn_output = torch.nn.functional.scaled_dot_product_attention(\n"
     ]
    }
   ],
   "source": [
    "hyperparams = {\n",
    "    \"max_new_tokens\": 256, \n",
    "    \"temperature\":0.6, \n",
    "    \"top_p\":0.9, \n",
    "    \"do_sample\": True\n",
    "}\n",
    "outputs = model.generate(\n",
    "    input_ids,\n",
    "    max_new_tokens=hyperparams[\"max_new_tokens\"],\n",
    "    eos_token_id=terminators,\n",
    "    do_sample=hyperparams[\"do_sample\"],\n",
    "    temperature=hyperparams[\"temperature\"],\n",
    "    top_p=hyperparams[\"top_p\"],\n",
    ")"
   ]
  },
  {
   "cell_type": "code",
   "execution_count": 5,
   "metadata": {},
   "outputs": [
    {
     "name": "stdout",
     "output_type": "stream",
     "text": [
      "Rating:\n",
      "\n",
      "**Prompt (20 points):** The prompt is partially fulfilled, as the story includes elements of an action-packed adventure, outrunning deadly traps, and a chase scene. However, the story lacks the jungle and ancient ruins setting mentioned in the prompt. Score: 14/20\n",
      "\n",
      "**Distance (20 points):** The story does not accurately reflect the 13.1-mile distance, as it appears to be a short-distance sprint or a brief adventure with no clear indication of the total distance covered. Score: 2/20\n",
      "\n",
      "**Average Walking Speed (20 points):** The story does not account for the average walking speed of 2.5 mph, as the narrative focuses on a continuous sprint or brief walking segments. The lack of variation in speed detracts from the realism of the training session. Score: 5/20\n",
      "\n",
      "**Average Running Speed (20 points):** The story accurately reflects the average running speed of 7.2 mph, with a clear emphasis on speed and intensity. However, the story lacks diversity in running speeds, with no clear indication of changes in pace. Score: 12/20\n",
      "\n",
      "**Training Style (20 points):** The story does not accurately reflect the half-marathon training style, as the narrative focuses\n"
     ]
    }
   ],
   "source": [
    "response = outputs[0][input_ids.shape[-1]:]\n",
    "output = tokenizer.decode(response, skip_special_tokens=True)\n",
    "print(output)"
   ]
  },
  {
   "cell_type": "code",
   "execution_count": 6,
   "metadata": {},
   "outputs": [],
   "source": [
    "save_response(\"LLAMA3_JUDGE\", hyperparams, output)"
   ]
  },
  {
   "cell_type": "code",
   "execution_count": 7,
   "metadata": {},
   "outputs": [],
   "source": [
    "# perplexity = evaluate.load(\"perplexity\", module_type=\"metric\")\n",
    "# input_texts = [\"lorem ipsum\", \"Happy Birthday!\", \"Bienvenue\"]\n",
    "# results = perplexity.compute(model_id=model_id,\n",
    "#                              add_start_token=False,\n",
    "#                              predictions=input_texts, \n",
    "#                              device=\"cuda\")\n",
    "# print(list(results.keys()))"
   ]
  },
  {
   "cell_type": "code",
   "execution_count": 8,
   "metadata": {},
   "outputs": [],
   "source": [
    "# print(round(results[\"mean_perplexity\"], 2))"
   ]
  }
 ],
 "metadata": {
  "kernelspec": {
   "display_name": ".venv",
   "language": "python",
   "name": "python3"
  },
  "language_info": {
   "codemirror_mode": {
    "name": "ipython",
    "version": 3
   },
   "file_extension": ".py",
   "mimetype": "text/x-python",
   "name": "python",
   "nbconvert_exporter": "python",
   "pygments_lexer": "ipython3",
   "version": "3.11.7"
  }
 },
 "nbformat": 4,
 "nbformat_minor": 2
}
