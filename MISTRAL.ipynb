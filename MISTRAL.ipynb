{
 "cells": [
  {
   "cell_type": "markdown",
   "metadata": {},
   "source": [
    "#### Marathon Training Application Story Template\n",
    "##### Objective: Create an engaging story template for a marathon training application that adapts to user prompts, running metrics, and training styles. This story template will be used to generate specific stories based on user inputs and metrics."
   ]
  },
  {
   "cell_type": "code",
   "execution_count": 7,
   "metadata": {},
   "outputs": [],
   "source": [
    "# Imports\n",
    "from transformers import AutoTokenizer, AutoModelForCausalLM, TextStreamer\n",
    "import torch\n",
    "import evaluate"
   ]
  },
  {
   "cell_type": "markdown",
   "metadata": {},
   "source": [
    "# Mistral-7B Instruct Model"
   ]
  },
  {
   "cell_type": "code",
   "execution_count": null,
   "metadata": {},
   "outputs": [],
   "source": []
  },
  {
   "cell_type": "code",
   "execution_count": 8,
   "metadata": {},
   "outputs": [
    {
     "data": {
      "application/vnd.jupyter.widget-view+json": {
       "model_id": "ebf39006947545aaaea2a5d42df79d7d",
       "version_major": 2,
       "version_minor": 0
      },
      "text/plain": [
       "config.json:   0%|          | 0.00/601 [00:00<?, ?B/s]"
      ]
     },
     "metadata": {},
     "output_type": "display_data"
    },
    {
     "name": "stderr",
     "output_type": "stream",
     "text": [
      "c:\\Users\\colin\\OneDrive\\Desktop\\Applied ML\\NLP Assignment\\Natural_Language_Assignment\\.venv\\Lib\\site-packages\\huggingface_hub\\file_download.py:157: UserWarning: `huggingface_hub` cache-system uses symlinks by default to efficiently store duplicated files but your machine does not support them in C:\\Users\\colin\\.cache\\huggingface\\hub\\models--mistralai--Mistral-7B-Instruct-v0.3. Caching files will still work but in a degraded version that might require more space on your disk. This warning can be disabled by setting the `HF_HUB_DISABLE_SYMLINKS_WARNING` environment variable. For more details, see https://huggingface.co/docs/huggingface_hub/how-to-cache#limitations.\n",
      "To support symlinks on Windows, you either need to activate Developer Mode or to run Python as an administrator. In order to see activate developer mode, see this article: https://docs.microsoft.com/en-us/windows/apps/get-started/enable-your-device-for-development\n",
      "  warnings.warn(message)\n"
     ]
    },
    {
     "data": {
      "application/vnd.jupyter.widget-view+json": {
       "model_id": "95e84e9960044645ae2438be9c80db46",
       "version_major": 2,
       "version_minor": 0
      },
      "text/plain": [
       "model.safetensors.index.json:   0%|          | 0.00/23.9k [00:00<?, ?B/s]"
      ]
     },
     "metadata": {},
     "output_type": "display_data"
    },
    {
     "data": {
      "application/vnd.jupyter.widget-view+json": {
       "model_id": "91dc900a408646bfbdcc6bff345bf0e6",
       "version_major": 2,
       "version_minor": 0
      },
      "text/plain": [
       "Downloading shards:   0%|          | 0/3 [00:00<?, ?it/s]"
      ]
     },
     "metadata": {},
     "output_type": "display_data"
    },
    {
     "data": {
      "application/vnd.jupyter.widget-view+json": {
       "model_id": "9d5bac4dd4b14177b20947f422336ad8",
       "version_major": 2,
       "version_minor": 0
      },
      "text/plain": [
       "model-00001-of-00003.safetensors:   0%|          | 0.00/4.95G [00:00<?, ?B/s]"
      ]
     },
     "metadata": {},
     "output_type": "display_data"
    },
    {
     "data": {
      "application/vnd.jupyter.widget-view+json": {
       "model_id": "39dd5fa937e34f5fa685bde0d040af2a",
       "version_major": 2,
       "version_minor": 0
      },
      "text/plain": [
       "model-00002-of-00003.safetensors:   0%|          | 0.00/5.00G [00:00<?, ?B/s]"
      ]
     },
     "metadata": {},
     "output_type": "display_data"
    },
    {
     "data": {
      "application/vnd.jupyter.widget-view+json": {
       "model_id": "81ddf22548464ad69179d9c0e41c2524",
       "version_major": 2,
       "version_minor": 0
      },
      "text/plain": [
       "model-00003-of-00003.safetensors:   0%|          | 0.00/4.55G [00:00<?, ?B/s]"
      ]
     },
     "metadata": {},
     "output_type": "display_data"
    },
    {
     "name": "stderr",
     "output_type": "stream",
     "text": [
      "c:\\Users\\colin\\OneDrive\\Desktop\\Applied ML\\NLP Assignment\\Natural_Language_Assignment\\.venv\\Lib\\site-packages\\accelerate\\utils\\modeling.py:1365: UserWarning: Current model requires 318769536 bytes of buffer for offloaded layers, which seems does not fit any GPU's remaining memory. If you are experiencing a OOM later, please consider using offload_buffers=True.\n",
      "  warnings.warn(\n"
     ]
    },
    {
     "data": {
      "application/vnd.jupyter.widget-view+json": {
       "model_id": "ab185ab280234cddb76c5710beaec14e",
       "version_major": 2,
       "version_minor": 0
      },
      "text/plain": [
       "Loading checkpoint shards:   0%|          | 0/3 [00:00<?, ?it/s]"
      ]
     },
     "metadata": {},
     "output_type": "display_data"
    },
    {
     "data": {
      "application/vnd.jupyter.widget-view+json": {
       "model_id": "46388582f0594a6a9117e542b31df644",
       "version_major": 2,
       "version_minor": 0
      },
      "text/plain": [
       "generation_config.json:   0%|          | 0.00/116 [00:00<?, ?B/s]"
      ]
     },
     "metadata": {},
     "output_type": "display_data"
    },
    {
     "name": "stderr",
     "output_type": "stream",
     "text": [
      "WARNING:root:Some parameters are on the meta device device because they were offloaded to the disk and cpu.\n"
     ]
    }
   ],
   "source": [
    "model_id =\"mistralai/Mistral-7B-Instruct-v0.3\"\n",
    "tokenizer = AutoTokenizer.from_pretrained(model_id)\n",
    "model = AutoModelForCausalLM.from_pretrained(model_id, torch_dtype=torch.bfloat16, device_map=\"auto\")\n"
   ]
  },
  {
   "cell_type": "code",
   "execution_count": 9,
   "metadata": {},
   "outputs": [],
   "source": [
    "# Constants for prompt generation\n",
    "INSTRUCTION_KEY = \"### Instruction:\"\n",
    "RESPONSE_KEY = \"### Response:\"\n",
    "END_KEY = \"### End\"\n",
    "INSTRUCTION = \"\"\"Here is the first output which starts with the prompt and then the story. \\n:\n",
    "\n",
    "Here's a zombie horror story set in New York City for a 0.5-mile training session with a short-distance sprint training style.\n",
    "\n",
    "**Story: \"The Brooklyn Bridge Apocalypse\"**\n",
    "\n",
    "You're a survivor of a zombie outbreak in New York City. You've managed to escape the initial chaos and find yourself on the Brooklyn Bridge, trying to make your way to safety. As you look around, you see the Manhattan skyline in the distance, but you know it's crawling with undead.\n",
    "\n",
    "You start your journey, your heart racing with every step. You can hear the distant moans and groans of the zombies, and you know you need to move fast. You break into a sprint, your feet pounding the pavement as you make your way across the bridge.\n",
    "\n",
    "**Cue: Speed up to 5 mph**\n",
    "\n",
    "As you run, you notice the zombies are getting closer. You can see them shambling towards you, their eyes fixed on you with an unnatural hunger. You pick up speed, your breathing heavy as you try to outrun the undead.\n",
    "\n",
    "Suddenly, you hear a loud thud behind you. You glance back to see a zombie stumbling onto the bridge, its arms outstretched. You don't hesitate, pushing yourself to run even faster.\n",
    "\n",
    "**Cue: Sprint for 0.25 miles**\n",
    "\n",
    "You're almost halfway across the bridge when you see a group of survivors huddled together, trying to escape the chaos. You spot a safe haven and make a beeline for it.\n",
    "\n",
    "As you approach, you notice the survivors are armed and ready to defend themselves. They welcome you with open arms, and you take a moment to catch your breath.\n",
    "\n",
    "**Cue: Walk for 0.15 miles**\n",
    "\n",
    "But your respite is short-lived. The zombies are closing in, and the survivors need your help to fend them off. You grab a nearby bat and join the fight, swinging it wildly at the undead.\n",
    "\n",
    "**Cue: Sprint for 0.1 miles**\n",
    "...\n",
    "\n",
    "**Cue: Sprint to the finish**\n",
    "\n",
    "You burst through the gates, exhausted but alive. You've made it to safety, but you know the fight is far from over.\n",
    "\n",
    "\\n\n",
    "\"\"\"\n",
    "\n",
    "INTRO_BLURB = \"\"\"We have created a fitness app that helps users train for marathons. The app uses stories to help users train. The stories are generated based on user input/biometric data. \n",
    "The stories are meant to be played during a training session in order to help the user train for marathons.\n",
    "You are a AI judge who rates and determines which output better fits the following criteria. The first criteria is the prompt, the second is the distance of the walk/run, \n",
    "the third is the average walking speed, the fourth is the average running speed, and the fifth is the training style (such as endurance run, walk, or anaerobic sprints). \n",
    "The story should have embedded cues for user speed changes and breaks where approriate depending on the Training Style.\n",
    "\n",
    "Your job is to critique all of the different outputs and determine which one is the best. You will be given a prompt and the criteria listed above.\n",
    "Rank all criteria seperately and then average the scores and give an overall score on a scale of 1-100. \\n\n",
    "\"\"\"\n",
    "input_text = \"\"\"{intro}\n",
    "{instruction_key}\n",
    "{instruction}\n",
    "{response_key}\n",
    "\"\"\".format(\n",
    "    intro=INTRO_BLURB,\n",
    "    instruction_key=INSTRUCTION_KEY,\n",
    "    instruction=INSTRUCTION,\n",
    "    response_key=RESPONSE_KEY,\n",
    ")\n",
    "# print(input_text)"
   ]
  },
  {
   "cell_type": "code",
   "execution_count": 10,
   "metadata": {},
   "outputs": [
    {
     "name": "stderr",
     "output_type": "stream",
     "text": [
      "The attention mask and the pad token id were not set. As a consequence, you may observe unexpected behavior. Please pass your input's `attention_mask` to obtain reliable results.\n",
      "Setting `pad_token_id` to `eos_token_id`:2 for open-end generation.\n"
     ]
    },
    {
     "name": "stdout",
     "output_type": "stream",
     "text": [
      "<s> We have created a fitness app that helps users train for marathons. The app uses stories to help users train. The stories are generated based on user input/biometric data. \n",
      "The stories are meant to be played during a training session in order to help the user train for marathons.\n",
      "You are a AI judge who rates and determines which output better fits the following criteria. The first criteria is the prompt, the second is the distance of the walk/run, \n",
      "the third is the average walking speed, the fourth is the average running speed, and the fifth is the training style (such as endurance run, walk, or anaerobic sprints). \n",
      "The story should have embedded cues for user speed changes and breaks where approriate depending on the Training Style.\n",
      "\n",
      "Your job is to critique all of the different outputs and determine which one is the best. You will be given a prompt and the criteria listed above.\n",
      "Rank all criteria seperately and then average the scores and give an overall score on a scale of 1-100. \n",
      "\n",
      "\n",
      "### Instruction:\n",
      "Here is the first output which starts with the prompt and then the story. \n",
      ":\n",
      "\n",
      "Here's a zombie horror story set in New York City for a 0.5-mile training session with a short-distance sprint training style.\n",
      "\n",
      "**Story: \"The Brooklyn Bridge Apocalypse\"**\n",
      "\n",
      "You're a survivor of a zombie outbreak in New York City. You've managed to escape the initial chaos and find yourself on the Brooklyn Bridge, trying to make your way to safety. As you look around, you see the Manhattan skyline in the distance, but you know it's crawling with undead.\n",
      "\n",
      "You start your journey, your heart racing with every step. You can hear the distant moans and groans of the zombies, and you know you need to move fast. You break into a sprint, your feet pounding the pavement as you make your way across the bridge.\n",
      "\n",
      "**Cue: Speed up to 5 mph**\n",
      "\n",
      "As you run, you notice the zombies are getting closer. You can see them shambling towards you, their eyes fixed on you with an unnatural hunger. You pick up speed, your breathing heavy as you try to outrun the undead.\n",
      "\n",
      "Suddenly, you hear a loud thud behind you. You glance back to see a zombie stumbling onto the bridge, its arms outstretched. You don't hesitate, pushing yourself to run even faster.\n",
      "\n",
      "**Cue: Sprint for 0.25 miles**\n",
      "\n",
      "You're almost halfway across the bridge when you see a group of survivors huddled together, trying to escape the chaos. You spot a safe haven and make a beeline for it.\n",
      "\n",
      "As you approach, you notice the survivors are armed and ready to defend themselves. They welcome you with open arms, and you take a moment to catch your breath.\n",
      "\n",
      "**Cue: Walk for 0.15 miles**\n",
      "\n",
      "But your respite is short-lived. The zombies are closing in, and the survivors need your help to fend them off. You grab a nearby bat and join the fight, swinging it wildly at the undead.\n",
      "\n",
      "**Cue: Sprint for 0.1 miles**\n",
      "...\n",
      "\n",
      "**Cue: Sprint to the finish**\n",
      "\n",
      "You burst through the gates, exhausted but alive. You've made it to safety, but you know the fight is far from over.\n",
      "\n",
      "\n",
      "\n",
      "\n",
      "### Response:\n"
     ]
    },
    {
     "name": "stderr",
     "output_type": "stream",
     "text": [
      "c:\\Users\\colin\\OneDrive\\Desktop\\Applied ML\\NLP Assignment\\Natural_Language_Assignment\\.venv\\Lib\\site-packages\\transformers\\models\\mistral\\modeling_mistral.py:674: UserWarning: 1Torch was not compiled with flash attention. (Triggered internally at ..\\aten\\src\\ATen\\native\\transformers\\cuda\\sdp_utils.cpp:455.)\n",
      "  attn_output = torch.nn.functional.scaled_dot_product_attention(\n"
     ]
    },
    {
     "name": "stdout",
     "output_type": "stream",
     "text": [
      "Prompt Fulfillmetn - Excellent! This Story provides clear instructions about what type if exercise this workout entails while also providing context within theme provided by using Zombi Horrorscape setting . Score :98%(4)<br>Distance Accuracy:- Perfect match between Distance mentioned & actual length covered throughout entiretyofstory.(Score=6%) <Br><BR/>AverageWalkingspeed-- Not specified.< Br /> Average RunningSpeed -- Specified correctly , Cued appropriatley multiple times thoughoutstoyy so User knows exactlywhenandhowfasttoexercise accordingtotrainingstyle requested..score =73 % )</b>(B)</font></p>\\*TraininStyleAccuarcy---Perfectmatchbetweentrainingstylenotedinthepromptsuchasshortdistancesprints&actualcontentofthestorieshowsuserwillbeengagedina seriesofsprinterunswithsomewalksbetweenforbreather.</strong>.Scoreratingisbasedonnumberoffitnessactivitiesdescribedwithincuestotargetedtrainsylewhichisfollowedsufficienttimesduringworkoutsessionscore=(fullmarks)=FullMarks!(Allcorrect)(D))\\*\\*(E)\\<\\/\\div \\>= Overall Rating:\\~avg((F)+G+H+(I)*J)/totalpoints * max points.\\<= avg(((FULLMARKSSCORE\\_PROMPT + PROXIMITY_DISTANCEACCURATEYSCORING \\(+\\text{ AVERAGEWALKINGSPEED}\\_\\_{NOTSPECIFIES} +\\mathbf {AVERRUNNING SPECS } _{EXCELLENT})/(MAX POINTSPROMOT)))=\\frac{((\\mathrm {\\quad fullmarksscoresummary }\\;)+\\;\\left (\\begin{\\smallmatrix}{proximity\\\\ distancedescription}\\\\accurateysccoring}+\\sum_{\\mathit{{notspecifies}}}\\right ))}{\\max pointspromotion}=\\boxdot[width={fit}]({height}=-\\sqrt[]{}*{length}(fraction){overallrating})\\approxeq [OveralRaitng]\\sim[\\overline{{\\colorboxesize}}]</s>\n"
     ]
    }
   ],
   "source": [
    "encoded_input = tokenizer(input_text, return_tensors='pt').to(\"cuda\")\n",
    "streamer = TextStreamer(tokenizer)\n",
    "response = model.generate(input_ids=encoded_input.input_ids, streamer=streamer, max_new_tokens=1000, temperature=1, repetition_penalty=2.0, no_repeat_ngram_size=1).to(\"cuda\")"
   ]
  },
  {
   "cell_type": "code",
   "execution_count": 11,
   "metadata": {},
   "outputs": [
    {
     "name": "stdout",
     "output_type": "stream",
     "text": [
      "We have created a fitness app that helps users train for marathons. The app uses stories to help users train. The stories are generated based on user input/biometric data. \n",
      "The stories are meant to be played during a training session in order to help the user train for marathons.\n",
      "You are a AI judge who rates and determines which output better fits the following criteria. The first criteria is the prompt, the second is the distance of the walk/run, \n",
      "the third is the average walking speed, the fourth is the average running speed, and the fifth is the training style (such as endurance run, walk, or anaerobic sprints). \n",
      "The story should have embedded cues for user speed changes and breaks where approriate depending on the Training Style.\n",
      "\n",
      "Your job is to critique all of the different outputs and determine which one is the best. You will be given a prompt and the criteria listed above.\n",
      "Rank all criteria seperately and then average the scores and give an overall score on a scale of 1-100. \n",
      "\n",
      "\n",
      "### Instruction:\n",
      "Here is the first output which starts with the prompt and then the story. \n",
      ":\n",
      "\n",
      "Here's a zombie horror story set in New York City for a 0.5-mile training session with a short-distance sprint training style.\n",
      "\n",
      "**Story: \"The Brooklyn Bridge Apocalypse\"**\n",
      "\n",
      "You're a survivor of a zombie outbreak in New York City. You've managed to escape the initial chaos and find yourself on the Brooklyn Bridge, trying to make your way to safety. As you look around, you see the Manhattan skyline in the distance, but you know it's crawling with undead.\n",
      "\n",
      "You start your journey, your heart racing with every step. You can hear the distant moans and groans of the zombies, and you know you need to move fast. You break into a sprint, your feet pounding the pavement as you make your way across the bridge.\n",
      "\n",
      "**Cue: Speed up to 5 mph**\n",
      "\n",
      "As you run, you notice the zombies are getting closer. You can see them shambling towards you, their eyes fixed on you with an unnatural hunger. You pick up speed, your breathing heavy as you try to outrun the undead.\n",
      "\n",
      "Suddenly, you hear a loud thud behind you. You glance back to see a zombie stumbling onto the bridge, its arms outstretched. You don't hesitate, pushing yourself to run even faster.\n",
      "\n",
      "**Cue: Sprint for 0.25 miles**\n",
      "\n",
      "You're almost halfway across the bridge when you see a group of survivors huddled together, trying to escape the chaos. You spot a safe haven and make a beeline for it.\n",
      "\n",
      "As you approach, you notice the survivors are armed and ready to defend themselves. They welcome you with open arms, and you take a moment to catch your breath.\n",
      "\n",
      "**Cue: Walk for 0.15 miles**\n",
      "\n",
      "But your respite is short-lived. The zombies are closing in, and the survivors need your help to fend them off. You grab a nearby bat and join the fight, swinging it wildly at the undead.\n",
      "\n",
      "**Cue: Sprint for 0.1 miles**\n",
      "...\n",
      "\n",
      "**Cue: Sprint to the finish**\n",
      "\n",
      "You burst through the gates, exhausted but alive. You've made it to safety, but you know the fight is far from over.\n",
      "\n",
      "\n",
      "\n",
      "\n",
      "### Response:\n",
      "Prompt Fulfillmetn - Excellent! This Story provides clear instructions about what type if exercise this workout entails while also providing context within theme provided by using Zombi Horrorscape setting . Score :98%(4)<br>Distance Accuracy:- Perfect match between Distance mentioned & actual length covered throughout entiretyofstory.(Score=6%) <Br><BR/>AverageWalkingspeed-- Not specified.< Br /> Average RunningSpeed -- Specified correctly , Cued appropriatley multiple times thoughoutstoyy so User knows exactlywhenandhowfasttoexercise accordingtotrainingstyle requested..score =73 % )</b>(B)</font></p>\\*TraininStyleAccuarcy---Perfectmatchbetweentrainingstylenotedinthepromptsuchasshortdistancesprints&actualcontentofthestorieshowsuserwillbeengagedina seriesofsprinterunswithsomewalksbetweenforbreather.</strong>.Scoreratingisbasedonnumberoffitnessactivitiesdescribedwithincuestotargetedtrainsylewhichisfollowedsufficienttimesduringworkoutsessionscore=(fullmarks)=FullMarks!(Allcorrect)(D))\\*\\*(E)\\<\\/\\div \\>= Overall Rating:\\~avg((F)+G+H+(I)*J)/totalpoints * max points.\\<= avg(((FULLMARKSSCORE\\_PROMPT + PROXIMITY_DISTANCEACCURATEYSCORING \\(+\\text{ AVERAGEWALKINGSPEED}\\_\\_{NOTSPECIFIES} +\\mathbf {AVERRUNNING SPECS } _{EXCELLENT})/(MAX POINTSPROMOT)))=\\frac{((\\mathrm {\\quad fullmarksscoresummary }\\;)+\\;\\left (\\begin{\\smallmatrix}{proximity\\\\ distancedescription}\\\\accurateysccoring}+\\sum_{\\mathit{{notspecifies}}}\\right ))}{\\max pointspromotion}=\\boxdot[width={fit}]({height}=-\\sqrt[]{}*{length}(fraction){overallrating})\\approxeq [OveralRaitng]\\sim[\\overline{{\\colorboxesize}}]\n"
     ]
    }
   ],
   "source": [
    "print(tokenizer.decode(response[0], skip_special_tokens=True))"
   ]
  },
  {
   "cell_type": "markdown",
   "metadata": {},
   "source": [
    "# Evaluate"
   ]
  },
  {
   "cell_type": "code",
   "execution_count": 12,
   "metadata": {},
   "outputs": [],
   "source": [
    "# perplexity = evaluate.load(\"perplexity\", module_type=\"metric\")\n",
    "# input_texts = [\"lorem ipsum\", \"Happy Birthday!\", \"Bienvenue\"]\n",
    "# results = perplexity.compute(model_id=model_id,\n",
    "#                              add_start_token=False,\n",
    "#                              predictions=input_texts, \n",
    "#                              device=\"cuda\")\n",
    "# print(list(results.keys()))"
   ]
  },
  {
   "cell_type": "code",
   "execution_count": 13,
   "metadata": {},
   "outputs": [],
   "source": [
    "# print(round(results[\"mean_perplexity\"], 2))"
   ]
  }
 ],
 "metadata": {
  "kernelspec": {
   "display_name": ".venv",
   "language": "python",
   "name": "python3"
  },
  "language_info": {
   "codemirror_mode": {
    "name": "ipython",
    "version": 3
   },
   "file_extension": ".py",
   "mimetype": "text/x-python",
   "name": "python",
   "nbconvert_exporter": "python",
   "pygments_lexer": "ipython3",
   "version": "3.11.7"
  }
 },
 "nbformat": 4,
 "nbformat_minor": 2
}
