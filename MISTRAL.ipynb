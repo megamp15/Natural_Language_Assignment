{
 "cells": [
  {
   "cell_type": "markdown",
   "metadata": {},
   "source": [
    "#### Marathon Training Application Story Template\n",
    "##### Objective: Create an engaging story template for a marathon training application that adapts to user prompts, running metrics, and training styles. This story template will be used to generate specific stories based on user inputs and metrics."
   ]
  },
  {
   "cell_type": "code",
   "execution_count": 1,
   "metadata": {},
   "outputs": [],
   "source": [
    "# Imports\n",
    "from transformers import AutoTokenizer, AutoModelForCausalLM, TextStreamer\n",
    "import torch\n",
    "import evaluate"
   ]
  },
  {
   "cell_type": "markdown",
   "metadata": {},
   "source": [
    "# Mistral-7B Instruct Model"
   ]
  },
  {
   "cell_type": "code",
   "execution_count": 4,
   "metadata": {},
   "outputs": [
    {
     "data": {
      "application/vnd.jupyter.widget-view+json": {
       "model_id": "339ec5443f294f8fb2239ede2c9313c2",
       "version_major": 2,
       "version_minor": 0
      },
      "text/plain": [
       "tokenizer_config.json:   0%|          | 0.00/137k [00:00<?, ?B/s]"
      ]
     },
     "metadata": {},
     "output_type": "display_data"
    },
    {
     "data": {
      "application/vnd.jupyter.widget-view+json": {
       "model_id": "b420f89341c5471f9a488f721ecf650d",
       "version_major": 2,
       "version_minor": 0
      },
      "text/plain": [
       "tokenizer.model:   0%|          | 0.00/587k [00:00<?, ?B/s]"
      ]
     },
     "metadata": {},
     "output_type": "display_data"
    },
    {
     "data": {
      "application/vnd.jupyter.widget-view+json": {
       "model_id": "416ed82912a84c4f882dfd9579f60166",
       "version_major": 2,
       "version_minor": 0
      },
      "text/plain": [
       "tokenizer.json:   0%|          | 0.00/1.96M [00:00<?, ?B/s]"
      ]
     },
     "metadata": {},
     "output_type": "display_data"
    },
    {
     "data": {
      "application/vnd.jupyter.widget-view+json": {
       "model_id": "ea0a1b9bdff243c396610b3863873976",
       "version_major": 2,
       "version_minor": 0
      },
      "text/plain": [
       "special_tokens_map.json:   0%|          | 0.00/414 [00:00<?, ?B/s]"
      ]
     },
     "metadata": {},
     "output_type": "display_data"
    },
    {
     "data": {
      "application/vnd.jupyter.widget-view+json": {
       "model_id": "fd44b03edc454f6683ae321c746ac9b2",
       "version_major": 2,
       "version_minor": 0
      },
      "text/plain": [
       "config.json:   0%|          | 0.00/601 [00:00<?, ?B/s]"
      ]
     },
     "metadata": {},
     "output_type": "display_data"
    },
    {
     "data": {
      "application/vnd.jupyter.widget-view+json": {
       "model_id": "1997218f25cf430e8d29a1a2e72c7258",
       "version_major": 2,
       "version_minor": 0
      },
      "text/plain": [
       "model.safetensors.index.json:   0%|          | 0.00/23.9k [00:00<?, ?B/s]"
      ]
     },
     "metadata": {},
     "output_type": "display_data"
    },
    {
     "data": {
      "application/vnd.jupyter.widget-view+json": {
       "model_id": "8d2a746063e849deb88ae0e7c595d46a",
       "version_major": 2,
       "version_minor": 0
      },
      "text/plain": [
       "Downloading shards:   0%|          | 0/3 [00:00<?, ?it/s]"
      ]
     },
     "metadata": {},
     "output_type": "display_data"
    },
    {
     "data": {
      "application/vnd.jupyter.widget-view+json": {
       "model_id": "7402521361734d6fa553e9b5bff2594f",
       "version_major": 2,
       "version_minor": 0
      },
      "text/plain": [
       "model-00001-of-00003.safetensors:   0%|          | 0.00/4.95G [00:00<?, ?B/s]"
      ]
     },
     "metadata": {},
     "output_type": "display_data"
    },
    {
     "data": {
      "application/vnd.jupyter.widget-view+json": {
       "model_id": "9df44a94822b42bfbd1aeb9896668cd5",
       "version_major": 2,
       "version_minor": 0
      },
      "text/plain": [
       "model-00002-of-00003.safetensors:   0%|          | 0.00/5.00G [00:00<?, ?B/s]"
      ]
     },
     "metadata": {},
     "output_type": "display_data"
    },
    {
     "data": {
      "application/vnd.jupyter.widget-view+json": {
       "model_id": "63a0502f9a6940e5a2c935b4f5162d8a",
       "version_major": 2,
       "version_minor": 0
      },
      "text/plain": [
       "model-00003-of-00003.safetensors:   0%|          | 0.00/4.55G [00:00<?, ?B/s]"
      ]
     },
     "metadata": {},
     "output_type": "display_data"
    },
    {
     "name": "stderr",
     "output_type": "stream",
     "text": [
      "c:\\Users\\pmahi\\OneDrive\\Desktop\\MP\\Drexel\\Courses\\CS614-900 - Applications in Machine Learning\\Projects\\Natural_Language_Assignment\\.venv\\Lib\\site-packages\\accelerate\\utils\\modeling.py:1365: UserWarning: Current model requires 318769536 bytes of buffer for offloaded layers, which seems does not fit any GPU's remaining memory. If you are experiencing a OOM later, please consider using offload_buffers=True.\n",
      "  warnings.warn(\n"
     ]
    },
    {
     "data": {
      "application/vnd.jupyter.widget-view+json": {
       "model_id": "8777a24ab08542cd99f23850fc984fad",
       "version_major": 2,
       "version_minor": 0
      },
      "text/plain": [
       "Loading checkpoint shards:   0%|          | 0/3 [00:00<?, ?it/s]"
      ]
     },
     "metadata": {},
     "output_type": "display_data"
    },
    {
     "data": {
      "application/vnd.jupyter.widget-view+json": {
       "model_id": "af313773e6e94712802eafa79da20823",
       "version_major": 2,
       "version_minor": 0
      },
      "text/plain": [
       "generation_config.json:   0%|          | 0.00/116 [00:00<?, ?B/s]"
      ]
     },
     "metadata": {},
     "output_type": "display_data"
    },
    {
     "name": "stderr",
     "output_type": "stream",
     "text": [
      "WARNING:root:Some parameters are on the meta device device because they were offloaded to the cpu.\n"
     ]
    }
   ],
   "source": [
    "model_id =\"mistralai/Mistral-7B-Instruct-v0.3\"\n",
    "tokenizer = AutoTokenizer.from_pretrained(model_id)\n",
    "model = AutoModelForCausalLM.from_pretrained(model_id, torch_dtype=torch.bfloat16, device_map=\"auto\")"
   ]
  },
  {
   "cell_type": "code",
   "execution_count": 7,
   "metadata": {},
   "outputs": [],
   "source": [
    "# Constants for prompt generation\n",
    "INSTRUCTION_KEY = \"### Instruction:\"\n",
    "RESPONSE_KEY = \"### Response:\"\n",
    "END_KEY = \"### End\"\n",
    "INSTRUCTION = \"\"\"Can you help me write a story with the following details:\\\n",
    "Prompt: A zombie horror story set in New York City.\n",
    "Distance: 0.5 miles\n",
    "Average Walking Speed: 2 mph\n",
    "Average Running Speed: 5 mph\n",
    "Training Style: Short-distance sprint \\n\n",
    "\"\"\"\n",
    "INTRO_BLURB = \"\"\"You are a AI writer who creates stories in various genres. We are writing stories for a mobile application that helps users walk/run and train for marathons.  \n",
    "The genre and description will come by user input called Prompt.\n",
    "The stories are meant to be played during a training session in order to help the user train for marathons. \n",
    "The story should have embedded cues for speed changes and breaks where approriate depending on the Training Style.\n",
    "\"\"\"\n",
    "input_text = \"\"\"{intro}\n",
    "{instruction_key}\n",
    "{instruction}\n",
    "{response_key}\n",
    "\"\"\".format(\n",
    "    intro=INTRO_BLURB,\n",
    "    instruction_key=INSTRUCTION_KEY,\n",
    "    instruction=INSTRUCTION,\n",
    "    response_key=RESPONSE_KEY,\n",
    ")\n",
    "# print(input_text)"
   ]
  },
  {
   "cell_type": "code",
   "execution_count": 8,
   "metadata": {},
   "outputs": [
    {
     "name": "stderr",
     "output_type": "stream",
     "text": [
      "The attention mask and the pad token id were not set. As a consequence, you may observe unexpected behavior. Please pass your input's `attention_mask` to obtain reliable results.\n",
      "Setting `pad_token_id` to `eos_token_id`:2 for open-end generation.\n"
     ]
    },
    {
     "name": "stdout",
     "output_type": "stream",
     "text": [
      "<s> You are a AI writer who creates stories in various genres. We are writing stories for a mobile application that helps users walk/run and train for marathons.  \n",
      "The genre and description will come by user input called Prompt.\n",
      "The stories are meant to be played during a training session in order to help the user train for marathons. \n",
      "The story should have embedded cues for speed changes and breaks where approriate depending on the Training Style.\n",
      "\n",
      "### Instruction:\n",
      "Can you help me write a story with the following details:Prompt: A zombie horror story set in New York City.\n",
      "Distance: 0.5 miles\n",
      "Average Walking Speed: 2 mph\n",
      "Average Running Speed: 5 mph\n",
      "Training Style: Short-distance sprint \n",
      "\n",
      "\n",
      "### Response:\n"
     ]
    },
    {
     "name": "stderr",
     "output_type": "stream",
     "text": [
      "c:\\Users\\pmahi\\OneDrive\\Desktop\\MP\\Drexel\\Courses\\CS614-900 - Applications in Machine Learning\\Projects\\Natural_Language_Assignment\\.venv\\Lib\\site-packages\\transformers\\models\\mistral\\modeling_mistral.py:674: UserWarning: 1Torch was not compiled with flash attention. (Triggered internally at ..\\aten\\src\\ATen\\native\\transformers\\cuda\\sdp_utils.cpp:455.)\n",
      "  attn_output = torch.nn.functional.scaled_dot_product_attention(\n"
     ]
    },
    {
     "name": "stdout",
     "output_type": "stream",
     "text": [
      "Title : The Undead Marathon - NYC Edition (Part I) [Zombies Attack]! Let's run, survivor!!🏃‍♂️✋🏼🔥💪🏻🚀✨⚡!!! Start your journey now...👀😉😊👍🏽🎉🙌👏❤😍💖💕♥!!!!!\\n\\tAs darkness falls upon Manhattan’ s bustling streets of steel & glass towers , an eeriness descends over this once vibrant city . Suddenly ... CRASH ! Screams echo through deserted alleyways as shambling corpses rise from their graves beneath Central Park West… ZOMBIES ARE HERE !! \\uD83E\\\\UDD19-\\udb4f:\\ufe6a::ghost_town\\_onlooker:-o O M G W T F?!? Run or die here my friend … Time is tickin’, let us move our feet at full throttle before they catch up.\\*\\*Speed Up Alert**!* Sprint like there‘re no tomorrow towards Times Square while dodging hord after horde o f flesh eat ers lurking around every corner.. Remember not all hope has been lost yet; we can still make it out alive if only WE KEEP MOVING FORWARDS AND NEVER LOOK BACK .. Keep pushing yourself harder than ever **Run Hard Warning**: Don t forget about those pesky obstacles blocking y ur path – jump high hurdles left behind b uildings under construction ; leap tall walls erected barricades across roads without hesitation.... Just keep running faster until reaching safety zone ahead.**Slow Down Cue:** As soon AS YOU SE E THE LIGHTS OF TIMESSQUARE UPHEAD**, take deep breath slow down pace slightly but don 'T stop moving forward just YET..... Be ready fo r more challenges awaiti ng beyond these bright lights…. But first enjoy momentary respite amidst chaos surrounding yawn ing neoclassical architecture above flashing billboards below........ Now get back into action mode soldier because danger never sleeps when dealing wit th undying monsters hotly pursuing yo UR heels…… Good luck surviving another day among ruins known previously asthe Big Apple🙏🏾✌💜😎💯👌😂🤣😅😆😁😀😄☺🙂🥰 <br></s>\n"
     ]
    }
   ],
   "source": [
    "encoded_input = tokenizer(input_text, return_tensors='pt').to(\"cuda\")\n",
    "streamer = TextStreamer(tokenizer)\n",
    "response = model.generate(input_ids=encoded_input.input_ids, streamer=streamer, max_new_tokens=1000, temperature=1, repetition_penalty=2.0, no_repeat_ngram_size=1).to(\"cuda\")"
   ]
  },
  {
   "cell_type": "code",
   "execution_count": 9,
   "metadata": {},
   "outputs": [
    {
     "name": "stdout",
     "output_type": "stream",
     "text": [
      "You are a AI writer who creates stories in various genres. We are writing stories for a mobile application that helps users walk/run and train for marathons.  \n",
      "The genre and description will come by user input called Prompt.\n",
      "The stories are meant to be played during a training session in order to help the user train for marathons. \n",
      "The story should have embedded cues for speed changes and breaks where approriate depending on the Training Style.\n",
      "\n",
      "### Instruction:\n",
      "Can you help me write a story with the following details:Prompt: A zombie horror story set in New York City.\n",
      "Distance: 0.5 miles\n",
      "Average Walking Speed: 2 mph\n",
      "Average Running Speed: 5 mph\n",
      "Training Style: Short-distance sprint \n",
      "\n",
      "\n",
      "### Response:\n",
      "Title : The Undead Marathon - NYC Edition (Part I) [Zombies Attack]! Let's run, survivor!!🏃‍♂️✋🏼🔥💪🏻🚀✨⚡!!! Start your journey now...👀😉😊👍🏽🎉🙌👏❤😍💖💕♥!!!!!\\n\\tAs darkness falls upon Manhattan’ s bustling streets of steel & glass towers , an eeriness descends over this once vibrant city . Suddenly ... CRASH ! Screams echo through deserted alleyways as shambling corpses rise from their graves beneath Central Park West… ZOMBIES ARE HERE !! \\uD83E\\\\UDD19-\\udb4f:\\ufe6a::ghost_town\\_onlooker:-o O M G W T F?!? Run or die here my friend … Time is tickin’, let us move our feet at full throttle before they catch up.\\*\\*Speed Up Alert**!* Sprint like there‘re no tomorrow towards Times Square while dodging hord after horde o f flesh eat ers lurking around every corner.. Remember not all hope has been lost yet; we can still make it out alive if only WE KEEP MOVING FORWARDS AND NEVER LOOK BACK .. Keep pushing yourself harder than ever **Run Hard Warning**: Don t forget about those pesky obstacles blocking y ur path – jump high hurdles left behind b uildings under construction ; leap tall walls erected barricades across roads without hesitation.... Just keep running faster until reaching safety zone ahead.**Slow Down Cue:** As soon AS YOU SE E THE LIGHTS OF TIMESSQUARE UPHEAD**, take deep breath slow down pace slightly but don 'T stop moving forward just YET..... Be ready fo r more challenges awaiti ng beyond these bright lights…. But first enjoy momentary respite amidst chaos surrounding yawn ing neoclassical architecture above flashing billboards below........ Now get back into action mode soldier because danger never sleeps when dealing wit th undying monsters hotly pursuing yo UR heels…… Good luck surviving another day among ruins known previously asthe Big Apple🙏🏾✌💜😎💯👌😂🤣😅😆😁😀😄☺🙂🥰 <br>\n"
     ]
    }
   ],
   "source": [
    "print(tokenizer.decode(response[0], skip_special_tokens=True))"
   ]
  },
  {
   "cell_type": "markdown",
   "metadata": {},
   "source": [
    "# Evaluate"
   ]
  },
  {
   "cell_type": "code",
   "execution_count": null,
   "metadata": {},
   "outputs": [],
   "source": [
    "perplexity = evaluate.load(\"perplexity\", module_type=\"metric\")\n",
    "input_texts = [\"lorem ipsum\", \"Happy Birthday!\", \"Bienvenue\"]\n",
    "results = perplexity.compute(model_id=model_id,\n",
    "                             add_start_token=False,\n",
    "                             predictions=input_texts, \n",
    "                             device=\"cuda\")\n",
    "print(list(results.keys()))"
   ]
  },
  {
   "cell_type": "code",
   "execution_count": null,
   "metadata": {},
   "outputs": [],
   "source": [
    "print(round(results[\"mean_perplexity\"], 2))"
   ]
  }
 ],
 "metadata": {
  "kernelspec": {
   "display_name": ".venv",
   "language": "python",
   "name": "python3"
  },
  "language_info": {
   "codemirror_mode": {
    "name": "ipython",
    "version": 3
   },
   "file_extension": ".py",
   "mimetype": "text/x-python",
   "name": "python",
   "nbconvert_exporter": "python",
   "pygments_lexer": "ipython3",
   "version": "3.11.9"
  }
 },
 "nbformat": 4,
 "nbformat_minor": 2
}
