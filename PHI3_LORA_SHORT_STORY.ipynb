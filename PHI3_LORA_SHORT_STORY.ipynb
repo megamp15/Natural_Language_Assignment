{
 "cells": [
  {
   "cell_type": "code",
   "execution_count": 1,
   "metadata": {},
   "outputs": [],
   "source": [
    "from transformers import AutoTokenizer, AutoModelForCausalLM, TextStreamer\n",
    "import torch\n",
    "import evaluate\n",
    "from utils import save_response"
   ]
  },
  {
   "cell_type": "markdown",
   "metadata": {},
   "source": [
    "# PHI3 SHORT STORY MODEL "
   ]
  },
  {
   "cell_type": "code",
   "execution_count": 2,
   "metadata": {},
   "outputs": [
    {
     "name": "stderr",
     "output_type": "stream",
     "text": [
      "Special tokens have been added in the vocabulary, make sure the associated word embeddings are fine-tuned or trained.\n"
     ]
    },
    {
     "data": {
      "application/vnd.jupyter.widget-view+json": {
       "model_id": "a5e956e35c594fe296c2dafe3881e7b1",
       "version_major": 2,
       "version_minor": 0
      },
      "text/plain": [
       "Loading checkpoint shards:   0%|          | 0/2 [00:00<?, ?it/s]"
      ]
     },
     "metadata": {},
     "output_type": "display_data"
    }
   ],
   "source": [
    "tokenizer_model = \"unsloth/Phi-3-mini-4k-instruct\"\n",
    "model_id = \"oztrkoguz/phi3_short_story_merged_bfloat16\"\n",
    "tokenizer = AutoTokenizer.from_pretrained(tokenizer_model)\n",
    "model = AutoModelForCausalLM.from_pretrained(model_id).to(\"cuda\")"
   ]
  },
  {
   "cell_type": "markdown",
   "metadata": {},
   "source": []
  },
  {
   "cell_type": "code",
   "execution_count": 3,
   "metadata": {},
   "outputs": [
    {
     "name": "stdout",
     "output_type": "stream",
     "text": [
      "Below is an instruction that describes a task, paired with an input that provides further context. Write a response that appropriately completes the request.\n",
      "\n",
      "### Instruction:\n",
      "We have created a fitness app that helps users train for marathons. The app uses stories to help users train. The stories are generated based on user input/biometric data. \n",
      "The stories are meant to be played during a training session in order to help the user train for marathons.\n",
      "You are a AI writer who's job is to create stories in various genres.\n",
      "The genre and description will come by user input called Prompt.\n",
      "The story should have embedded cues for user speed changes and breaks where approriate depending on the Training Style.\n",
      "\n",
      "### Input:\n",
      "Can you help me write a story with the following details:\n",
      "Prompt: A action packed adventure story based off of Indiana Jones, include outrunning deadly traps, a chase scene with a treasure hunter and a villain, jungles and ancient ruins.\n",
      "Distance: 13.1 miles\n",
      "Average Walking Speed: 2.5 mph\n",
      "Average Running Speed: 7.2 mph\n",
      "Training Style: Half Marathon\n",
      "\n",
      "### Response:\n",
      "\n"
     ]
    }
   ],
   "source": [
    "input_text = \"\"\"Below is an instruction that describes a task, paired with an input that provides further context. Write a response that appropriately completes the request.\n",
    "\n",
    "### Instruction:\n",
    "We have created a fitness app that helps users train for marathons. The app uses stories to help users train. The stories are generated based on user input/biometric data. \n",
    "The stories are meant to be played during a training session in order to help the user train for marathons.\n",
    "You are a AI writer who's job is to create stories in various genres.\n",
    "The genre and description will come by user input called Prompt.\n",
    "The story should have embedded cues for user speed changes and breaks where approriate depending on the Training Style.\n",
    "\n",
    "### Input:\n",
    "Can you help me write a story with the following details:\n",
    "Prompt: A action packed adventure story based off of Indiana Jones, include outrunning deadly traps, a chase scene with a treasure hunter and a villain, jungles and ancient ruins.\n",
    "Distance: 13.1 miles\n",
    "Average Walking Speed: 2.5 mph\n",
    "Average Running Speed: 7.2 mph\n",
    "Training Style: Half Marathon\n",
    "\n",
    "### Response:\n",
    "\"\"\"\n",
    "print(input_text)\n"
   ]
  },
  {
   "cell_type": "code",
   "execution_count": 11,
   "metadata": {},
   "outputs": [
    {
     "name": "stdout",
     "output_type": "stream",
     "text": [
      "<s> Below is an instruction that describes a task, paired with an input that provides further context. Write a response that appropriately completes the request.\n",
      "\n",
      "### Instruction:\n",
      "We have created a fitness app that helps users train for marathons. The app uses stories to help users train. The stories are generated based on user input/biometric data. \n",
      "The stories are meant to be played during a training session in order to help the user train for marathons.\n",
      "You are a AI writer who's job is to create stories in various genres.\n",
      "The genre and description will come by user input called Prompt.\n",
      "The story should have embedded cues for user speed changes and breaks where approriate depending on the Training Style.\n",
      "\n",
      "### Input:\n",
      "Can you help me write a story with the following details:\n",
      "Prompt: A action packed adventure story based off of Indiana Jones, include outrunning deadly traps, a chase scene with a treasure hunter and a villain, jungles and ancient ruins.\n",
      "Distance: 13.1 miles\n",
      "Average Walking Speed: 2.5 mph\n",
      "Average Running Speed: 7.2 mph\n",
      "Training Style: Half Marathon\n",
      "\n",
      "### Response:\n",
      "It’S JULIET! It starts like everyone knows it SHOOTING OFF IN THE GREAT DEADLY TRAPS OF IRON-CLUB WORLD!!!!! He takes his bow but when one appears he droppt down behind some crates ! Then all these things appear around him there s rocks fallng from walls so fast bah BANG !! BOOM THEN HE SWOOPES UP FROM BELOW U SEE PANNED NOW AND IT IS DARKER FINALLY SOUTH FORWARD RIGHT TO GET MOVIE ONSET... (PLAY CATCHUP)....THEN RUNRUN THIS ALL MAKEFULL COMMENT REGIONAL START MUSIC????? HIGHPLEXEL? TRAP ROCK CRASH CLIPPITZCRIIIIIMPLOPE ....GO ALRIGHT .. ANNO YOU OUTLAST EVERDED LANDMANS LIKE RAIDMAN NOODLERS ? Noodler ?? OK , its gonna go nw then run fwd again . ok now we got shots at different angles ... okay here they enter this old village just after warming up maybe get lost or something cause right away people attack them both not slowy as u can see lol I smell gold though why dont thoooosers pick us :p Ok guys running ahead let em pass quickly wtf do i look dumb rn lets continue yay short distance half mile about seven minutes walking time five seconds crossbow shot..walk faster etc walk more slowly turn left going into battle area next stop cutdown wait what oh man first blood very exciting donotlooki know if ill kill anyone im too cool idk how many noobs killed before hauntingman dies looking stupid oops also lots other guns used well anyhow keep shooting die already shoota lot nahh never mind another minute later almost ran someone say \"came\" alright need less background noise take three steps back move forward kick near hand guards slit neak hands knives use gun throw sword slash stab jump climb grab hold claws punches body hit grenades blow torch blaster laser eyes eye cover roar loud boom scream sound stuff coming closer make our heart rate rise because close fighting happens mostly really intense please listen carefully especially big spikes getting smaller while still being huge awesome tails whack head chopping arms swing throwing weapons rolling objects flying overcoming obstacles vicious actions words shoutings speech sounds monkeys speaking animals saying important lines exclamations such statements describing fight scenes including descriptions visualizing surroundling elements characters posotion expression gestures movement scenic designs landscape locations landmarks features environmental settings audio video animation graphical images creatures spirits zombies skeletor evil minters menace darkness flames fire wind smoke rain snow night day sun light shadow lights stars constellaints air clouds mist sandstone rock crystal sky water sprinklers iris earth moon twilight mountains trees branches leaves thick roots flowers flower petals grass shooting star fog silhouette reddish purple blue orange green yellow magenta plasma silver black electric white turquise translucent violets scarlato gray cyan grey teal lavender burgundywine colorful pastel colors aquamarines dark saffron indigo rose tan brown egluksred metallics diamond shapes multicolored spears bulky textured skinny muscular bodies fat thin curvy limbs sharp teeth cladding hair mouthpieces horn antagonist appearance contrast perspective viewpoint narration directors commentary score suspense excitement humor thrilling plot development dramatic music playlist character dialogue setting ambient ambience environment weather atmosphere emotions psychology mental focus inner thoughts feelings dream sequences ideas imagination concept imaginary concepts surreal realistic events fictional scenarios random occurrences memories flashback remembran below showcase replay pause zoom follow directions key tips shortcut footage montages sublimity archery graveyard tomb mausoleum skull face sweat arena steeples cave passageways forest woodlands fields vegetable garden house car park kitchen cupboard roof railing sidewall gatefront yard building ground street corner city roads mountain valley range plaza parkinglot square field court benchtables table chair desklife treehouse room floor hall closet ceileroom basement tunnel ventilation fan engine coils machine assembly section pipelines switchbox mainframe device system interface panel display screen monitor electronic circuit board terminal electron flow current voltage pulsing photon power quantum dynamics atomic scale structures space dimensions frequency cycles periodic patterns energy motion physical laws natural phenomena mathematical theories logic reasoning causality consequence effect theory principle operation component structure mechanism function activity process reaction pattern procedure element sequence step cycle repetition\n"
     ]
    }
   ],
   "source": [
    "\n",
    "hyperparams = {\n",
    "    \"max_new_tokens\": 1000, \n",
    "    # \"temperature\":0.1, \n",
    "    \"do_sample\": True,\n",
    "    \"repetition_penalty\":5.0, \n",
    "    \"no_repeat_ngram_size\":2\n",
    "}\n",
    "encoded_input = tokenizer([input_text], return_tensors='pt').to(\"cuda\")\n",
    "streamer = TextStreamer(tokenizer)\n",
    "response = model.generate(input_ids=encoded_input.input_ids, \n",
    "                        streamer=streamer, \n",
    "                        max_new_tokens=hyperparams[\"max_new_tokens\"], \n",
    "                        # temperature=hyperparams[\"temperature\"], \n",
    "                        do_sample=hyperparams[\"do_sample\"],\n",
    "                        repetition_penalty=hyperparams[\"repetition_penalty\"], \n",
    "                        no_repeat_ngram_size=hyperparams[\"no_repeat_ngram_size\"]).to(\"cuda\")"
   ]
  },
  {
   "cell_type": "code",
   "execution_count": 12,
   "metadata": {},
   "outputs": [
    {
     "name": "stdout",
     "output_type": "stream",
     "text": [
      "Below is an instruction that describes a task, paired with an input that provides further context. Write a response that appropriately completes the request.\n",
      "\n",
      "### Instruction:\n",
      "We have created a fitness app that helps users train for marathons. The app uses stories to help users train. The stories are generated based on user input/biometric data. \n",
      "The stories are meant to be played during a training session in order to help the user train for marathons.\n",
      "You are a AI writer who's job is to create stories in various genres.\n",
      "The genre and description will come by user input called Prompt.\n",
      "The story should have embedded cues for user speed changes and breaks where approriate depending on the Training Style.\n",
      "\n",
      "### Input:\n",
      "Can you help me write a story with the following details:\n",
      "Prompt: A action packed adventure story based off of Indiana Jones, include outrunning deadly traps, a chase scene with a treasure hunter and a villain, jungles and ancient ruins.\n",
      "Distance: 13.1 miles\n",
      "Average Walking Speed: 2.5 mph\n",
      "Average Running Speed: 7.2 mph\n",
      "Training Style: Half Marathon\n",
      "\n",
      "### Response:\n",
      "It’S JULIET! It starts like everyone knows it SHOOTING OFF IN THE GREAT DEADLY TRAPS OF IRON-CLUB WORLD!!!!! He takes his bow but when one appears he droppt down behind some crates ! Then all these things appear around him there s rocks fallng from walls so fast bah BANG !! BOOM THEN HE SWOOPES UP FROM BELOW U SEE PANNED NOW AND IT IS DARKER FINALLY SOUTH FORWARD RIGHT TO GET MOVIE ONSET... (PLAY CATCHUP)....THEN RUNRUN THIS ALL MAKEFULL COMMENT REGIONAL START MUSIC????? HIGHPLEXEL? TRAP ROCK CRASH CLIPPITZCRIIIIIMPLOPE ....GO ALRIGHT .. ANNO YOU OUTLAST EVERDED LANDMANS LIKE RAIDMAN NOODLERS ? Noodler ?? OK , its gonna go nw then run fwd again . ok now we got shots at different angles ... okay here they enter this old village just after warming up maybe get lost or something cause right away people attack them both not slowy as u can see lol I smell gold though why dont thoooosers pick us :p Ok guys running ahead let em pass quickly wtf do i look dumb rn lets continue yay short distance half mile about seven minutes walking time five seconds crossbow shot..walk faster etc walk more slowly turn left going into battle area next stop cutdown wait what oh man first blood very exciting donotlooki know if ill kill anyone im too cool idk how many noobs killed before hauntingman dies looking stupid oops also lots other guns used well anyhow keep shooting die already shoota lot nahh never mind another minute later almost ran someone say \"came\" alright need less background noise take three steps back move forward kick near hand guards slit neak hands knives use gun throw sword slash stab jump climb grab hold claws punches body hit grenades blow torch blaster laser eyes eye cover roar loud boom scream sound stuff coming closer make our heart rate rise because close fighting happens mostly really intense please listen carefully especially big spikes getting smaller while still being huge awesome tails whack head chopping arms swing throwing weapons rolling objects flying overcoming obstacles vicious actions words shoutings speech sounds monkeys speaking animals saying important lines exclamations such statements describing fight scenes including descriptions visualizing surroundling elements characters posotion expression gestures movement scenic designs landscape locations landmarks features environmental settings audio video animation graphical images creatures spirits zombies skeletor evil minters menace darkness flames fire wind smoke rain snow night day sun light shadow lights stars constellaints air clouds mist sandstone rock crystal sky water sprinklers iris earth moon twilight mountains trees branches leaves thick roots flowers flower petals grass shooting star fog silhouette reddish purple blue orange green yellow magenta plasma silver black electric white turquise translucent violets scarlato gray cyan grey teal lavender burgundywine colorful pastel colors aquamarines dark saffron indigo rose tan brown egluksred metallics diamond shapes multicolored spears bulky textured skinny muscular bodies fat thin curvy limbs sharp teeth cladding hair mouthpieces horn antagonist appearance contrast perspective viewpoint narration directors commentary score suspense excitement humor thrilling plot development dramatic music playlist character dialogue setting ambient ambience environment weather atmosphere emotions psychology mental focus inner thoughts feelings dream sequences ideas imagination concept imaginary concepts surreal realistic events fictional scenarios random occurrences memories flashback remembran below showcase replay pause zoom follow directions key tips shortcut footage montages sublimity archery graveyard tomb mausoleum skull face sweat arena steeples cave passageways forest woodlands fields vegetable garden house car park kitchen cupboard roof railing sidewall gatefront yard building ground street corner city roads mountain valley range plaza parkinglot square field court benchtables table chair desklife treehouse room floor hall closet ceileroom basement tunnel ventilation fan engine coils machine assembly section pipelines switchbox mainframe device system interface panel display screen monitor electronic circuit board terminal electron flow current voltage pulsing photon power quantum dynamics atomic scale structures space dimensions frequency cycles periodic patterns energy motion physical laws natural phenomena mathematical theories logic reasoning causality consequence effect theory principle operation component structure mechanism function activity process reaction pattern procedure element sequence step cycle repetition\n"
     ]
    }
   ],
   "source": [
    "output = tokenizer.decode(response[0], skip_special_tokens=True)\n",
    "print(output)"
   ]
  },
  {
   "cell_type": "code",
   "execution_count": 13,
   "metadata": {},
   "outputs": [],
   "source": [
    "save_response(\"PHI3-SHORT-STORY\", hyperparams, output)"
   ]
  },
  {
   "cell_type": "code",
   "execution_count": 14,
   "metadata": {},
   "outputs": [],
   "source": [
    "# perplexity = evaluate.load(\"perplexity\", module_type=\"metric\")\n",
    "# input_texts = [\"lorem ipsum\", \"Happy Birthday!\", \"Bienvenue\"]\n",
    "# results = perplexity.compute(model_id=model_id,\n",
    "#                              add_start_token=False,\n",
    "#                              predictions=input_texts, \n",
    "#                              device=\"cuda\")\n",
    "# print(list(results.keys()))"
   ]
  },
  {
   "cell_type": "code",
   "execution_count": 15,
   "metadata": {},
   "outputs": [],
   "source": [
    "# print(round(results[\"mean_perplexity\"], 2))"
   ]
  }
 ],
 "metadata": {
  "kernelspec": {
   "display_name": ".venv",
   "language": "python",
   "name": "python3"
  },
  "language_info": {
   "codemirror_mode": {
    "name": "ipython",
    "version": 3
   },
   "file_extension": ".py",
   "mimetype": "text/x-python",
   "name": "python",
   "nbconvert_exporter": "python",
   "pygments_lexer": "ipython3",
   "version": "3.11.9"
  }
 },
 "nbformat": 4,
 "nbformat_minor": 2
}
