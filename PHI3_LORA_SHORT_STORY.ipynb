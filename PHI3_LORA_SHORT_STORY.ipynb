{
 "cells": [
  {
   "cell_type": "code",
   "execution_count": 1,
   "metadata": {},
   "outputs": [],
   "source": [
    "from transformers import AutoTokenizer, AutoModelForCausalLM, TextStreamer\n",
    "import torch\n",
    "import evaluate\n",
    "from utils import save_response"
   ]
  },
  {
   "cell_type": "markdown",
   "metadata": {},
   "source": [
    "# PHI3 SHORT STORY MODEL "
   ]
  },
  {
   "cell_type": "code",
   "execution_count": 2,
   "metadata": {},
   "outputs": [
    {
     "name": "stderr",
     "output_type": "stream",
     "text": [
      "Special tokens have been added in the vocabulary, make sure the associated word embeddings are fine-tuned or trained.\n"
     ]
    },
    {
     "data": {
      "application/vnd.jupyter.widget-view+json": {
       "model_id": "a5e956e35c594fe296c2dafe3881e7b1",
       "version_major": 2,
       "version_minor": 0
      },
      "text/plain": [
       "Loading checkpoint shards:   0%|          | 0/2 [00:00<?, ?it/s]"
      ]
     },
     "metadata": {},
     "output_type": "display_data"
    }
   ],
   "source": [
    "tokenizer_model = \"unsloth/Phi-3-mini-4k-instruct\"\n",
    "model_id = \"oztrkoguz/phi3_short_story_merged_bfloat16\"\n",
    "tokenizer = AutoTokenizer.from_pretrained(tokenizer_model)\n",
    "model = AutoModelForCausalLM.from_pretrained(model_id).to(\"cuda\")"
   ]
  },
  {
   "cell_type": "markdown",
   "metadata": {},
   "source": []
  },
  {
   "cell_type": "code",
   "execution_count": 3,
   "metadata": {},
   "outputs": [
    {
     "name": "stdout",
     "output_type": "stream",
     "text": [
      "Below is an instruction that describes a task, paired with an input that provides further context. Write a response that appropriately completes the request.\n",
      "\n",
      "### Instruction:\n",
      "We have created a fitness app that helps users train for marathons. The app uses stories to help users train. The stories are generated based on user input/biometric data. \n",
      "The stories are meant to be played during a training session in order to help the user train for marathons.\n",
      "You are a AI writer who's job is to create stories in various genres.\n",
      "The genre and description will come by user input called Prompt.\n",
      "The story should have embedded cues for user speed changes and breaks where approriate depending on the Training Style.\n",
      "\n",
      "### Input:\n",
      "Can you help me write a story with the following details:\n",
      "Prompt: A action packed adventure story based off of Indiana Jones, include outrunning deadly traps, a chase scene with a treasure hunter and a villain, jungles and ancient ruins.\n",
      "Distance: 13.1 miles\n",
      "Average Walking Speed: 2.5 mph\n",
      "Average Running Speed: 7.2 mph\n",
      "Training Style: Half Marathon\n",
      "\n",
      "### Response:\n",
      "\n"
     ]
    }
   ],
   "source": [
    "input_text = \"\"\"Below is an instruction that describes a task, paired with an input that provides further context. Write a response that appropriately completes the request.\n",
    "\n",
    "### Instruction:\n",
    "We have created a fitness app that helps users train for marathons. The app uses stories to help users train. The stories are generated based on user input/biometric data. \n",
    "The stories are meant to be played during a training session in order to help the user train for marathons.\n",
    "You are a AI writer who's job is to create stories in various genres.\n",
    "The genre and description will come by user input called Prompt.\n",
    "The story should have embedded cues for user speed changes and breaks where approriate depending on the Training Style.\n",
    "\n",
    "### Input:\n",
    "Can you help me write a story with the following details:\n",
    "Prompt: A action packed adventure story based off of Indiana Jones, include outrunning deadly traps, a chase scene with a treasure hunter and a villain, jungles and ancient ruins.\n",
    "Distance: 13.1 miles\n",
    "Average Walking Speed: 2.5 mph\n",
    "Average Running Speed: 7.2 mph\n",
    "Training Style: Half Marathon\n",
    "\n",
    "### Response:\n",
    "\"\"\"\n",
    "print(input_text)\n"
   ]
  },
  {
   "cell_type": "code",
   "execution_count": 4,
   "metadata": {},
   "outputs": [
    {
     "name": "stdout",
     "output_type": "stream",
     "text": [
      "<s> Below is an instruction that describes a task, paired with an input that provides further context. Write a response that appropriately completes the request.\n",
      "\n",
      "### Instruction:\n",
      "We have created a fitness app that helps users train for marathons. The app uses stories to help users train. The stories are generated based on user input/biometric data. \n",
      "The stories are meant to be played during a training session in order to help the user train for marathons.\n",
      "You are a AI writer who's job is to create stories in various genres.\n",
      "The genre and description will come by user input called Prompt.\n",
      "The story should have embedded cues for user speed changes and breaks where approriate depending on the Training Style.\n",
      "\n",
      "### Input:\n",
      "Can you help me write a story with the following details:\n",
      "Prompt: A action packed adventure story based off of Indiana Jones, include outrunning deadly traps, a chase scene with a treasure hunter and a villain, jungles and ancient ruins.\n",
      "Distance: 13.1 miles\n",
      "Average Walking Speed: 2.5 mph\n",
      "Average Running Speed: 7.2 mph\n",
      "Training Style: Half Marathon\n",
      "\n",
      "### Response:\n"
     ]
    },
    {
     "name": "stderr",
     "output_type": "stream",
     "text": [
      "c:\\Users\\pmahi\\OneDrive\\Desktop\\MP\\Drexel\\Courses\\CS614-900 - Applications in Machine Learning\\Projects\\Natural_Language_Assignment\\.venv\\Lib\\site-packages\\transformers\\generation\\configuration_utils.py:515: UserWarning: `do_sample` is set to `False`. However, `temperature` is set to `0.6` -- this flag is only used in sample-based generation modes. You should set `do_sample=True` or unset `temperature`.\n",
      "  warnings.warn(\n",
      "c:\\Users\\pmahi\\OneDrive\\Desktop\\MP\\Drexel\\Courses\\CS614-900 - Applications in Machine Learning\\Projects\\Natural_Language_Assignment\\.venv\\Lib\\site-packages\\transformers\\models\\mistral\\modeling_mistral.py:674: UserWarning: 1Torch was not compiled with flash attention. (Triggered internally at ..\\aten\\src\\ATen\\native\\transformers\\cuda\\sdp_utils.cpp:455.)\n",
      "  attn_output = torch.nn.functional.scaled_dot_product_attention(\n"
     ]
    },
    {
     "name": "stdout",
     "output_type": "stream",
     "text": [
      "It’ s day one at your first half-maraton! You start running through some dense forest as Indy runs past trying not too fall into any pitfalls or get hit from above (the camera zooms up). Then he finds himself surrounded again but this time there isn t anyone around him so it looks like his own trap has been set here... He quickly turns back towards home after seeing what happened before turning left onto another path which leads them both downhill toward their destination - two more pits appear along side each other while they run across narrow bridges over water filled trenches between trees covered hillsides below us looking very similar yet different than those seen earlier today when we were walking together near these same areas without knowing exactly how far away everything else was going forward until now.... We continue our journey ahead passing several large boulders blocking most roads leading north westward then suddenly stop because something catches everyone attention right next door causing all three characters including yourself plus others nearby watching intently behind closed doors waiting patientfully till someone comes outside saying \"Come inside!\" After hearing nothing about anything happening beyond just talking amongst themselves nobody moves except maybe taking short steps occasionally making sure no harm done etc.. So finally everybody gets ready leaving only four remaining individuals standing still staring blank faced expressionless faces against dark background lightening flash briefly illuminating every corner within sight showing clearly enough even though none could see directly anymore due mostly caused partly thanks largely owning mainly sole reason being lack understanding regarding why such events occur whenever somebody dies especially oneself personally whose life expectancy seems quite low compared versus average human lifespans generally speaking thus creating confusion among many questions concerning existence itself thereby increasing uncertainty greatly hence resulting ultimately eventually becoming somewhat less clear overall despite having known previously prior experiences involving death occurrences throughout history particularly modern times specifically relates closely related topics namely warfare terrorism suicide bombings homicidal acts committed primarily targetting civilibelow ground level targets usually noncombatants innocent victims often children adult women men elder persons disabled mentally handcuffd prisoners convicted criminals sentenced guilty felonies murder rape robber assault kidnapping tortured execution executed assassination attempted killing self accidental injury serious bodily damage severe physical pain extreme emotional distress mental health problems depression anxiety phobia panick attacks nightmare dream hallucinate reality perception alteration sensory deprivations dissociative states paranoid delusions psychosis schizophrenics autistic spectrum personality types neurotically obsessive compulsively addictives substance abuse alcohol drugs nicotine smoking pot cannabis heroines crack whorehouses prostitution porno moviemaking video games computer software applications mobile phone internet social media networking websites blogging news articles magazinfashion clothing accessories shopping online stores ecommerce business ventures entrepreneurship innovators inventors creativity ideas concepts theories principles philosophy science mathematics engineering physics chemistry biology medicine technology law enforcement criminal justice system judicial courts legal proceeditions courtroom trials hear witness testimony evidence presented case files documents records transcript record audio visual footage photograph videos images pictures photos photo gallery slam dunk basketball game shooting hoops free throw line basket ball field goal attempt scoring points shot put throwing disc golf putting green bowling alley laneroller skateboard riding rollerbikegolf swing hitting baseball bat pitch striking fastball strikeout foul tip fly balls popups caught stealing bases tagged runner base coach umpire referee spectator fans crowd cheering players teamwork cooperation competition competitive spirit sportsmart athletlete sportsmanlike conduct fair play good manners gentleman lady respectful behavior polite courteous manner friendly attitude kindheartened generosity charitable giving helping strangers sharing resources carpool driving gasoline saving energy conservation recycle reusing reducing waste disposable plastic bottle container trash pickup garbage collection landfill dumpster full litter clean streets public transport bus station subway metro railroad commuter trains passenger cars airplanemachinerie automobile engine motorcycle scootery vehicle wheels axel transmission gearbox differential brakes suspension shock absorbers seat belts helmet headlight turn signal horn siren emergency lights red blue yellow orange purple white black gray brown grey silver gold bronze color paint finish gloss shiny smooth surface texture rough grained wood hardwood softplywood particle board fiberglass vinyl leather cloth fabric polyester nubuck suede wool cotton denim jean cordura canvas linoleum rubbing eraser marker pen writing paper clip keychain ring chain necklace earrngoldfishgloveswatermarkstickerbottleddrinkwaterglasscupplugcoffeemachinecomputerdiskdriveharddiskfurniture\n"
     ]
    }
   ],
   "source": [
    "\n",
    "hyperparams = {\n",
    "    \"max_new_tokens\": 1000, \n",
    "    \"temperature\":0.6, \n",
    "    \"repetition_penalty\":2.0, \n",
    "    \"no_repeat_ngram_size\":1\n",
    "}\n",
    "encoded_input = tokenizer([input_text], return_tensors='pt').to(\"cuda\")\n",
    "streamer = TextStreamer(tokenizer)\n",
    "response = model.generate(input_ids=encoded_input.input_ids, \n",
    "                        streamer=streamer, \n",
    "                        max_new_tokens=hyperparams[\"max_new_tokens\"], \n",
    "                        temperature=hyperparams[\"temperature\"], \n",
    "                        repetition_penalty=hyperparams[\"repetition_penalty\"], \n",
    "                        no_repeat_ngram_size=hyperparams[\"no_repeat_ngram_size\"]).to(\"cuda\")"
   ]
  },
  {
   "cell_type": "code",
   "execution_count": 5,
   "metadata": {},
   "outputs": [
    {
     "name": "stdout",
     "output_type": "stream",
     "text": [
      "Below is an instruction that describes a task, paired with an input that provides further context. Write a response that appropriately completes the request.\n",
      "\n",
      "### Instruction:\n",
      "We have created a fitness app that helps users train for marathons. The app uses stories to help users train. The stories are generated based on user input/biometric data. \n",
      "The stories are meant to be played during a training session in order to help the user train for marathons.\n",
      "You are a AI writer who's job is to create stories in various genres.\n",
      "The genre and description will come by user input called Prompt.\n",
      "The story should have embedded cues for user speed changes and breaks where approriate depending on the Training Style.\n",
      "\n",
      "### Input:\n",
      "Can you help me write a story with the following details:\n",
      "Prompt: A action packed adventure story based off of Indiana Jones, include outrunning deadly traps, a chase scene with a treasure hunter and a villain, jungles and ancient ruins.\n",
      "Distance: 13.1 miles\n",
      "Average Walking Speed: 2.5 mph\n",
      "Average Running Speed: 7.2 mph\n",
      "Training Style: Half Marathon\n",
      "\n",
      "### Response:\n",
      "It’ s day one at your first half-maraton! You start running through some dense forest as Indy runs past trying not too fall into any pitfalls or get hit from above (the camera zooms up). Then he finds himself surrounded again but this time there isn t anyone around him so it looks like his own trap has been set here... He quickly turns back towards home after seeing what happened before turning left onto another path which leads them both downhill toward their destination - two more pits appear along side each other while they run across narrow bridges over water filled trenches between trees covered hillsides below us looking very similar yet different than those seen earlier today when we were walking together near these same areas without knowing exactly how far away everything else was going forward until now.... We continue our journey ahead passing several large boulders blocking most roads leading north westward then suddenly stop because something catches everyone attention right next door causing all three characters including yourself plus others nearby watching intently behind closed doors waiting patientfully till someone comes outside saying \"Come inside!\" After hearing nothing about anything happening beyond just talking amongst themselves nobody moves except maybe taking short steps occasionally making sure no harm done etc.. So finally everybody gets ready leaving only four remaining individuals standing still staring blank faced expressionless faces against dark background lightening flash briefly illuminating every corner within sight showing clearly enough even though none could see directly anymore due mostly caused partly thanks largely owning mainly sole reason being lack understanding regarding why such events occur whenever somebody dies especially oneself personally whose life expectancy seems quite low compared versus average human lifespans generally speaking thus creating confusion among many questions concerning existence itself thereby increasing uncertainty greatly hence resulting ultimately eventually becoming somewhat less clear overall despite having known previously prior experiences involving death occurrences throughout history particularly modern times specifically relates closely related topics namely warfare terrorism suicide bombings homicidal acts committed primarily targetting civilibelow ground level targets usually noncombatants innocent victims often children adult women men elder persons disabled mentally handcuffd prisoners convicted criminals sentenced guilty felonies murder rape robber assault kidnapping tortured execution executed assassination attempted killing self accidental injury serious bodily damage severe physical pain extreme emotional distress mental health problems depression anxiety phobia panick attacks nightmare dream hallucinate reality perception alteration sensory deprivations dissociative states paranoid delusions psychosis schizophrenics autistic spectrum personality types neurotically obsessive compulsively addictives substance abuse alcohol drugs nicotine smoking pot cannabis heroines crack whorehouses prostitution porno moviemaking video games computer software applications mobile phone internet social media networking websites blogging news articles magazinfashion clothing accessories shopping online stores ecommerce business ventures entrepreneurship innovators inventors creativity ideas concepts theories principles philosophy science mathematics engineering physics chemistry biology medicine technology law enforcement criminal justice system judicial courts legal proceeditions courtroom trials hear witness testimony evidence presented case files documents records transcript record audio visual footage photograph videos images pictures photos photo gallery slam dunk basketball game shooting hoops free throw line basket ball field goal attempt scoring points shot put throwing disc golf putting green bowling alley laneroller skateboard riding rollerbikegolf swing hitting baseball bat pitch striking fastball strikeout foul tip fly balls popups caught stealing bases tagged runner base coach umpire referee spectator fans crowd cheering players teamwork cooperation competition competitive spirit sportsmart athletlete sportsmanlike conduct fair play good manners gentleman lady respectful behavior polite courteous manner friendly attitude kindheartened generosity charitable giving helping strangers sharing resources carpool driving gasoline saving energy conservation recycle reusing reducing waste disposable plastic bottle container trash pickup garbage collection landfill dumpster full litter clean streets public transport bus station subway metro railroad commuter trains passenger cars airplanemachinerie automobile engine motorcycle scootery vehicle wheels axel transmission gearbox differential brakes suspension shock absorbers seat belts helmet headlight turn signal horn siren emergency lights red blue yellow orange purple white black gray brown grey silver gold bronze color paint finish gloss shiny smooth surface texture rough grained wood hardwood softplywood particle board fiberglass vinyl leather cloth fabric polyester nubuck suede wool cotton denim jean cordura canvas linoleum rubbing eraser marker pen writing paper clip keychain ring chain necklace earrngoldfishgloveswatermarkstickerbottleddrinkwaterglasscupplugcoffeemachinecomputerdiskdriveharddiskfurniture\n"
     ]
    }
   ],
   "source": [
    "output = tokenizer.decode(response[0], skip_special_tokens=True)\n",
    "print(output)"
   ]
  },
  {
   "cell_type": "code",
   "execution_count": 6,
   "metadata": {},
   "outputs": [],
   "source": [
    "save_response(\"PHI3-SHORT-STORY\", hyperparams, output)"
   ]
  },
  {
   "cell_type": "code",
   "execution_count": 7,
   "metadata": {},
   "outputs": [],
   "source": [
    "# perplexity = evaluate.load(\"perplexity\", module_type=\"metric\")\n",
    "# input_texts = [\"lorem ipsum\", \"Happy Birthday!\", \"Bienvenue\"]\n",
    "# results = perplexity.compute(model_id=model_id,\n",
    "#                              add_start_token=False,\n",
    "#                              predictions=input_texts, \n",
    "#                              device=\"cuda\")\n",
    "# print(list(results.keys()))"
   ]
  },
  {
   "cell_type": "code",
   "execution_count": 8,
   "metadata": {},
   "outputs": [],
   "source": [
    "# print(round(results[\"mean_perplexity\"], 2))"
   ]
  }
 ],
 "metadata": {
  "kernelspec": {
   "display_name": ".venv",
   "language": "python",
   "name": "python3"
  },
  "language_info": {
   "codemirror_mode": {
    "name": "ipython",
    "version": 3
   },
   "file_extension": ".py",
   "mimetype": "text/x-python",
   "name": "python",
   "nbconvert_exporter": "python",
   "pygments_lexer": "ipython3",
   "version": "3.11.9"
  }
 },
 "nbformat": 4,
 "nbformat_minor": 2
}
